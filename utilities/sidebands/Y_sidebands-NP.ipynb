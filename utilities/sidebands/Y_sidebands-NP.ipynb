{
 "cells": [
  {
   "cell_type": "code",
   "execution_count": 14,
   "metadata": {},
   "outputs": [],
   "source": [
    "! . /usr/local/bin/thisroot.sh\n",
    "import ROOT\n",
    "from ROOT import TFile,TH1,TH1F,TCanvas,TLine,TLegend,TPad\n",
    "from ROOT import RooFit\n",
    "JPsi_mass = 3.096916\n",
    "Phi_mass = 1.019455"
   ]
  },
  {
   "cell_type": "code",
   "execution_count": 2,
   "metadata": {
    "collapsed": true
   },
   "outputs": [],
   "source": [
    "#! ls ../rootfiles/X4140*.root"
   ]
  },
  {
   "cell_type": "code",
   "execution_count": 2,
   "metadata": {
    "collapsed": true
   },
   "outputs": [],
   "source": [
    "rootfile = \"../rootfiles/X4140_Base_Side4-6_AllData.root\"\n",
    "#rootfile =\"../rootfiles/X4140_MuMuKK_KRe_MuRef_Sidebands5-7_NP3.0_B0Cuts_CW5.15-5.55.root\"\n",
    "#histname = \"Xcand_histo_hlt8_cw_nonprompt_cosalpha\"\n",
    "histname = \"Phi_hist_all_sw_nonprompt_extra\"\n",
    "#histname = \"PhiMassHisto\"\n",
    "#histname = \"SW_PhiMass_NoM\"\n",
    "#histname = \"SW_PhiMass\"\n",
    "#histname = \"Xcand_histo_DM_any_cw_nonprompt_cosalpha\"\n",
    "inputfile  = TFile(rootfile,\"READ\")\n",
    "hist = inputfile.Get(histname)\n",
    "c = TCanvas(\"canvas\",\"canvas\",1200,1200) ;\n",
    "hist.SetName(\"SW_Phi_NonPrompt\")\n",
    "hist.SetTitle(\"SW_Phi_NonPrompt\")"
   ]
  },
  {
   "cell_type": "code",
   "execution_count": 3,
   "metadata": {
    "collapsed": true
   },
   "outputs": [],
   "source": [
    "from ROOT import RooRealVar,RooAbsPdf,RooChebychev,RooExponential,RooGaussian\n",
    "from ROOT import RooAbsPdf,RooPlot,RooAddPdf,RooDataHist,RooArgSet,RooArgList\n",
    "from ROOT import RooVoigtian\n",
    "from ROOT import kGreen,kRed,kBlack,kBlue,kDashed,kDotted,kMagenta\n",
    "from ROOT.RooFit import Components,LineColor,LineStyle,Name,Normalization,Layout,Format,Label,Parameters,Range,Title"
   ]
  },
  {
   "cell_type": "code",
   "execution_count": 5,
   "metadata": {
    "collapsed": true
   },
   "outputs": [],
   "source": [
    "massmin = 1.020-0.031\n",
    "massmax = 1.020+0.031\n",
    "phimean = 1.020\n",
    "massbins = (massmax - massmin)/hist.GetBinWidth(2)\n",
    "mass = RooRealVar(\"mass\",\"M(KK)[GeV]\",massmin,massmax)\n",
    "mass.setBins(int(massbins))"
   ]
  },
  {
   "cell_type": "code",
   "execution_count": 6,
   "metadata": {},
   "outputs": [
    {
     "name": "stderr",
     "output_type": "stream",
     "text": [
      "Info in <TCanvas::Print>: png file plots/phiplot_Phi_hist_all_sw_nonprompt_extra.png has been created\n",
      "Info in <TCanvas::Print>: eps file plots/phiplot_Phi_hist_all_sw_nonprompt_extra.eps has been created\n",
      "Info in <TCanvas::Print>: pdf file plots/phiplot_Phi_hist_all_sw_nonprompt_extra.pdf has been created\n"
     ]
    }
   ],
   "source": [
    "hist.GetXaxis().SetRangeUser(massmin,massmax)\n",
    "hist.Draw()\n",
    "plotname = \"plots/phiplot_\" + histname\n",
    "c.SaveAs(plotname  + \".png\")\n",
    "c.SaveAs(plotname  + \".eps\")\n",
    "c.SaveAs(plotname  + \".pdf\")"
   ]
  },
  {
   "cell_type": "code",
   "execution_count": 20,
   "metadata": {
    "collapsed": true
   },
   "outputs": [],
   "source": [
    "mean = RooRealVar(\"mean\",\"mean of gaussian\",phimean,phimean-0.005,phimean+0.005);\n",
    "sigma = RooRealVar(\"sigma\",\"width of gaussian\",0.0013);\n",
    "sigma1 = RooRealVar(\"sigma1\",\"width of gaussian1\",0.002,0.0005,0.05);\n",
    "sigma2 = RooRealVar(\"sigma2\",\"width of gaussian2\",0.004,0.004,0.01);\n",
    "gamma = RooRealVar(\"gamma\",\"gamma of bw\",10.76572e-03,0.001,0.02);\n",
    "\n",
    "a0 = RooRealVar(\"a0\",\"a0\",0.001,-1.,1.)\n",
    "a1 = RooRealVar(\"a1\",\"a1\",0.001,-0.5,0.5)\n",
    "a2 = RooRealVar(\"a2\",\"a2\",-0.00001,-2.,2.)\n",
    "a3 = RooRealVar(\"a3\",\"a3\",-0.001,-0.025,0.05)\n",
    "a4 = RooRealVar(\"a4\",\"a4\",0.002,-0.1,0.1)\n",
    "a5 = RooRealVar(\"a5\",\"a5\",0.001,-0.025,0.05)\n",
    "a6 = RooRealVar(\"a6\",\"a6\",0.0,-0.001,0.001)\n",
    "\n",
    "aset = RooArgList(a0,a1,a2,a3,a4)#,a5)#,a6)\n",
    "nSig = RooRealVar(\"nSig\",\"nSig\",5E5,0.,5.0E6)\n",
    "nBkg = RooRealVar(\"nBkg\",\"nBkg\",2E6,0.,5.0E6)"
   ]
  },
  {
   "cell_type": "code",
   "execution_count": 21,
   "metadata": {
    "collapsed": true
   },
   "outputs": [],
   "source": [
    "cheb = RooChebychev(\"cheb\",\"Background\",mass,aset)\n",
    "#gauss = RooGaussian(\"gauss\",\"gaussian PDF \",mass,mean,sigma)\n",
    "signal = RooVoigtian(\"signal\",\"signal\",mass,mean,gamma,sigma)\n",
    "\n",
    "tot = RooAddPdf(\"tot\",\"g+cheb\",RooArgList(signal,cheb),RooArgList(nSig,nBkg))"
   ]
  },
  {
   "cell_type": "code",
   "execution_count": 22,
   "metadata": {},
   "outputs": [
    {
     "name": "stdout",
     "output_type": "stream",
     "text": [
      "2746998.0\n",
      "[#1] INFO:DataHandling -- RooDataHist::adjustBinning(dh): fit range of variable mass expanded to nearest bin boundaries: [0.989,1.051] --> [0.989,1.051]\n"
     ]
    }
   ],
   "source": [
    "masslist = RooArgList(mass)\n",
    "dh = RooDataHist(\"dh\",\"dh\",masslist,hist)\n",
    "numEvts = dh.sum(False)\n",
    "print numEvts"
   ]
  },
  {
   "cell_type": "code",
   "execution_count": 23,
   "metadata": {},
   "outputs": [
    {
     "data": {
      "text/plain": [
       "<ROOT.RooFitResult object at 0x0>"
      ]
     },
     "execution_count": 23,
     "metadata": {},
     "output_type": "execute_result"
    },
    {
     "name": "stdout",
     "output_type": "stream",
     "text": [
      "[#1] INFO:Minization -- p.d.f. provides expected number of events, including extended term in likelihood.\n",
      "[#1] INFO:Fitting -- RooAbsOptTestStatistic::ctor(nll_tot_dh) constructing test statistic for sub-range named fit\n",
      "[#1] INFO:Fitting -- RooAbsOptTestStatistic::ctor(nll_tot_dh) fixing interpretation of coefficients of any RooAddPdf to full domain of observables \n",
      "[#1] INFO:NumericIntegration -- RooRealIntegral::init(signal_Int[mass]) using numeric integrator RooIntegrator1D to calculate Int(mass)\n",
      "[#1] INFO:NumericIntegration -- RooRealIntegral::init(signal_Int[mass|NormalizationRangeForfit]_Norm[mass]) using numeric integrator RooIntegrator1D to calculate Int(mass)\n",
      "[#1] INFO:Minization -- RooMinimizer::optimizeConst: activating const optimization\n",
      "[#1] INFO:NumericIntegration -- RooRealIntegral::init(signal_Int[mass]) using numeric integrator RooIntegrator1D to calculate Int(mass)\n",
      "[#1] INFO:Minization --  The following expressions will be evaluated in cache-and-track mode: (signal,cheb)\n",
      " **********\n",
      " **    1 **SET PRINT           1\n",
      " **********\n",
      " **********\n",
      " **    2 **SET NOGRAD\n",
      " **********\n",
      " PARAMETER DEFINITIONS:\n",
      "    NO.   NAME         VALUE      STEP SIZE      LIMITS\n",
      "     1 a0           1.00000e-03  2.00000e-01   -1.00000e+00  1.00000e+00\n",
      "     2 a1           1.00000e-03  1.00000e-01   -5.00000e-01  5.00000e-01\n",
      "     3 a2          -1.00000e-05  4.00000e-01   -2.00000e+00  2.00000e+00\n",
      "     4 a3          -1.00000e-03  7.50000e-03   -2.50000e-02  5.00000e-02\n",
      "     5 a4           2.00000e-03  2.00000e-02   -1.00000e-01  1.00000e-01\n",
      "     6 gamma        1.07657e-02  1.90000e-03    1.00000e-03  2.00000e-02\n",
      "     7 mean         1.02000e+00  1.00000e-03    1.01500e+00  1.02500e+00\n",
      "     8 nBkg         2.00000e+06  5.00000e+05    0.00000e+00  5.00000e+06\n",
      "     9 nSig         5.00000e+05  2.50000e+05    0.00000e+00  5.00000e+06\n",
      " **********\n",
      " **    3 **SET ERR         0.5\n",
      " **********\n",
      " **********\n",
      " **    4 **SET PRINT           1\n",
      " **********\n",
      " **********\n",
      " **    5 **SET STR           1\n",
      " **********\n",
      " NOW USING STRATEGY  1: TRY TO BALANCE SPEED AGAINST RELIABILITY\n",
      " **********\n",
      " **    6 **MIGRAD        4500           1\n",
      " **********\n",
      " FIRST CALL TO USER FUNCTION AT NEW START POINT, WITH IFLAG=4.\n",
      " START MIGRAD MINIMIZATION.  STRATEGY  1.  CONVERGENCE WHEN EDM .LT. 1.00e-03\n",
      " FCN=-4.56135e+07 FROM MIGRAD    STATUS=INITIATE       40 CALLS          41 TOTAL\n",
      "                     EDM= unknown      STRATEGY= 1      NO ERROR MATRIX       \n",
      "  EXT PARAMETER               CURRENT GUESS       STEP         FIRST   \n",
      "  NO.   NAME      VALUE            ERROR          SIZE      DERIVATIVE \n",
      "   1  a0           1.00000e-03   2.00000e-01   2.01358e-01  -3.04938e+05\n",
      "   2  a1           1.00000e-03   1.00000e-01   2.01358e-01  -1.99001e+04\n",
      "   3  a2          -1.00000e-05   4.00000e-01   2.01358e-01   2.65003e+05\n",
      "   4  a3          -1.00000e-03   7.50000e-03   2.16848e-01   4.55826e+03\n",
      "   5  a4           2.00000e-03   2.00000e-02   2.01400e-01   7.01568e+03\n",
      "   6  gamma        1.07657e-02   1.90000e-03   2.01441e-01  -3.03897e+04\n",
      "   7  mean         1.02000e+00   1.00000e-03   2.01358e-01  -2.15821e+04\n",
      "   8  nBkg         2.00000e+06   5.00000e+05   2.05758e-01  -2.91094e+05\n",
      "   9  nSig         5.00000e+05   2.50000e+05   1.72186e-01  -2.79676e+04\n",
      "                               ERR DEF= 0.5\n",
      " MIGRAD FAILS TO FIND IMPROVEMENT\n",
      " MACHINE ACCURACY LIMITS FURTHER IMPROVEMENT.\n",
      " MIGRAD MINIMIZATION HAS CONVERGED.\n",
      " MIGRAD WILL VERIFY CONVERGENCE AND ERROR MATRIX.\n",
      " COVARIANCE MATRIX CALCULATED SUCCESSFULLY\n",
      " FCN=-4.57094e+07 FROM HESSE     STATUS=OK             87 CALLS         616 TOTAL\n",
      "                     EDM=3.99646    STRATEGY= 1      ERROR MATRIX ACCURATE \n",
      "  EXT PARAMETER                                   STEP         FIRST   \n",
      "  NO.   NAME      VALUE            ERROR          SIZE      DERIVATIVE \n",
      "   1  a0           4.23443e-01   1.25685e-03   5.19668e-03  -1.71509e+01\n",
      "   2  a1          -1.43478e-01   1.60466e-03   1.03683e-02   4.86919e+01\n",
      "   3  a2           4.77090e-02   1.10909e-03   2.13409e-03   2.05425e+02\n",
      "   4  a3          -2.30144e-02   1.03894e-03   4.80730e-01   3.24750e+01\n",
      "   5  a4           1.43483e-02   1.04268e-03   4.25429e-02  -4.56301e+00\n",
      "   6  gamma        5.74946e-03   1.53364e-04   4.52771e-02   9.54194e+00\n",
      "   7  mean         1.01956e+00   3.86242e-05   3.28135e-02  -9.15670e+00\n",
      "   8  nBkg         2.61527e+06   3.07980e+03   3.09317e-03   5.89938e+01\n",
      "   9  nSig         1.31793e+05   2.64925e+03   5.69828e-03  -7.81841e+00\n",
      "                               ERR DEF= 0.5\n",
      " MIGRAD MINIMIZATION HAS CONVERGED.\n",
      " FCN=-4.57094e+07 FROM MIGRAD    STATUS=CONVERGED     998 CALLS         999 TOTAL\n",
      "                     EDM=4.475e-05    STRATEGY= 1  ERROR MATRIX UNCERTAINTY   3.6 per cent\n",
      "  EXT PARAMETER                                   STEP         FIRST   \n",
      "  NO.   NAME      VALUE            ERROR          SIZE      DERIVATIVE \n",
      "   1  a0           4.22506e-01   1.25520e-03  -4.99042e-06   8.09247e-01\n",
      "   2  a1          -1.45885e-01   1.59648e-03  -2.54158e-05  -1.52639e+00\n",
      "   3  a2           4.85959e-02   1.11151e-03   3.62812e-06  -3.25986e+00\n",
      "   4  a3          -1.70059e-02   4.61487e-04   7.88545e-05   1.20347e-01\n",
      "   5  a4           1.52094e-02   1.04238e-03   7.61667e-05  -1.81377e-01\n",
      "   6  gamma        5.26254e-03   1.51877e-04  -3.21153e-04  -3.06998e-01\n",
      "   7  mean         1.01955e+00   3.86222e-05  -2.96037e-05   5.69652e-02\n",
      "   8  nBkg         2.62671e+06   3.06389e+03   2.88601e-05  -1.68824e+00\n",
      "   9  nSig         1.20290e+05   2.59124e+03  -8.71006e-05   3.97163e+00\n",
      "                               ERR DEF= 0.5\n",
      " EXTERNAL ERROR MATRIX.    NDIM=  25    NPAR=  9    ERR DEF=0.5\n",
      "  1.576e-06  8.324e-07  6.522e-07  1.907e-08  4.307e-07  5.439e-08 -4.798e-09 -1.125e+00  1.094e+00 \n",
      "  8.324e-07  2.549e-06  5.317e-07  4.920e-08  1.939e-07  1.338e-07  1.505e-09 -2.951e+00  2.871e+00 \n",
      "  6.522e-07  5.317e-07  1.235e-06 -3.333e-08  3.567e-07  2.061e-08  5.428e-09 -4.995e-01  4.649e-01 \n",
      "  1.907e-08  4.920e-08 -3.333e-08  2.130e-07 -2.589e-08  1.268e-08  2.597e-10 -2.977e-01  3.037e-01 \n",
      "  4.307e-07  1.939e-07  3.567e-07 -2.589e-08  1.087e-06  1.105e-08 -1.281e-08 -2.964e-01  2.702e-01 \n",
      "  5.439e-08  1.338e-07  2.061e-08  1.268e-08  1.105e-08  2.307e-08  3.821e-10 -3.443e-01  3.382e-01 \n",
      " -4.798e-09  1.505e-09  5.428e-09  2.597e-10 -1.281e-08  3.821e-10  1.492e-09 -4.377e-03  4.425e-03 \n",
      " -1.125e+00 -2.951e+00 -4.995e-01 -2.977e-01 -2.964e-01 -3.443e-01 -4.377e-03  9.387e+06 -6.687e+06 \n",
      "  1.094e+00  2.871e+00  4.649e-01  3.037e-01  2.702e-01  3.382e-01  4.425e-03 -6.687e+06  6.715e+06 \n",
      " PARAMETER  CORRELATION COEFFICIENTS  \n",
      "       NO.  GLOBAL      1      2      3      4      5      6      7      8      9\n",
      "        1  0.59561   1.000  0.415  0.468  0.033  0.329  0.285 -0.099 -0.292  0.336\n",
      "        2  0.74320   0.415  1.000  0.300  0.067  0.117  0.552  0.024 -0.603  0.694\n",
      "        3  0.56957   0.468  0.300  1.000 -0.065  0.308  0.122  0.126 -0.147  0.161\n",
      "        4  0.32372   0.033  0.067 -0.065  1.000 -0.054  0.181  0.015 -0.211  0.254\n",
      "        5  0.50183   0.329  0.117  0.308 -0.054  1.000  0.070 -0.318 -0.093  0.100\n",
      "        6  0.86420   0.285  0.552  0.122  0.181  0.070  1.000  0.065 -0.740  0.859\n",
      "        7  0.41887  -0.099  0.024  0.126  0.015 -0.318  0.065  1.000 -0.037  0.044\n",
      "        8  0.84346  -0.292 -0.603 -0.147 -0.211 -0.093 -0.740 -0.037  1.000 -0.842\n",
      "        9  0.93135   0.336  0.694  0.161  0.254  0.100  0.859  0.044 -0.842  1.000\n",
      " **********\n",
      " **    7 **SET ERR         0.5\n",
      " **********\n",
      " **********\n",
      " **    8 **SET PRINT           1\n",
      " **********\n",
      " **********\n",
      " **    9 **HESSE        4500\n",
      " **********\n",
      " COVARIANCE MATRIX CALCULATED SUCCESSFULLY\n",
      " FCN=-4.57094e+07 FROM HESSE     STATUS=OK             91 CALLS        1090 TOTAL\n",
      "                     EDM=0.765082    STRATEGY= 1      ERROR MATRIX ACCURATE \n",
      "  EXT PARAMETER                                INTERNAL      INTERNAL  \n",
      "  NO.   NAME      VALUE            ERROR       STEP SIZE       VALUE   \n",
      "   1  a0           4.22506e-01   1.24651e-03   5.17919e-03   4.36209e-01\n",
      "   2  a1          -1.45885e-01   1.57488e-03   1.03773e-02  -2.96076e-01\n",
      "   3  a2           4.85959e-02   1.12431e-03   2.12784e-03   2.43003e-02\n",
      "   4  a3          -1.70059e-02   1.33058e-03   1.89139e-01  -2.23595e+00\n",
      "   5  a4           1.52094e-02   1.04570e-03   4.25027e-02   1.52686e-01\n",
      "   6  gamma        5.26254e-03   1.62398e-04   4.62711e-02  -5.83935e-01\n",
      "   7  mean         1.01955e+00   3.81608e-05   3.28392e-02  -8.96735e-02\n",
      "   8  nBkg         2.62671e+06   3.39570e+03   3.09242e-03   5.07057e-02\n",
      "   9  nSig         1.20290e+05   3.00671e+03   5.77671e-03  -1.25933e+00\n",
      "                               ERR DEF= 0.5\n",
      " EXTERNAL ERROR MATRIX.    NDIM=  25    NPAR=  9    ERR DEF=0.5\n",
      "  1.554e-06  7.992e-07  6.238e-07  1.447e-07  4.001e-07  5.626e-08 -3.977e-09 -1.166e+00  1.168e+00 \n",
      "  7.992e-07  2.480e-06  4.536e-07  3.547e-07  1.305e-07  1.398e-07  2.247e-09 -3.048e+00  3.051e+00 \n",
      "  6.238e-07  4.536e-07  1.264e-06 -2.916e-07  3.938e-07  6.124e-09  4.502e-09 -8.330e-02  8.348e-02 \n",
      "  1.447e-07  3.547e-07 -2.916e-07  1.772e-06 -2.323e-07  9.697e-08  2.602e-09 -2.423e+00  2.425e+00 \n",
      "  4.001e-07  1.305e-07  3.938e-07 -2.323e-07  1.094e-06 -1.136e-09 -1.204e-08  4.161e-02 -4.165e-02 \n",
      "  5.626e-08  1.398e-07  6.124e-09  9.697e-08 -1.136e-09  2.638e-08  5.511e-10 -4.228e-01  4.235e-01 \n",
      " -3.977e-09  2.247e-09  4.502e-09  2.602e-09 -1.204e-08  5.511e-10  1.456e-09 -8.046e-03  8.064e-03 \n",
      " -1.166e+00 -3.048e+00 -8.330e-02 -2.423e+00  4.161e-02 -4.228e-01 -8.046e-03  1.153e+07 -8.912e+06 \n",
      "  1.168e+00  3.051e+00  8.348e-02  2.425e+00 -4.165e-02  4.235e-01  8.064e-03 -8.912e+06  9.040e+06 \n",
      " PARAMETER  CORRELATION COEFFICIENTS  \n",
      "       NO.  GLOBAL      1      2      3      4      5      6      7      8      9\n",
      "        1  0.59106   1.000  0.407  0.445  0.087  0.307  0.278 -0.084 -0.276  0.312\n",
      "        2  0.73784   0.407  1.000  0.256  0.169  0.079  0.547  0.037 -0.570  0.644\n",
      "        3  0.58571   0.445  0.256  1.000 -0.195  0.335  0.034  0.105 -0.022  0.025\n",
      "        4  0.70928   0.087  0.169 -0.195  1.000 -0.167  0.448  0.051 -0.536  0.606\n",
      "        5  0.50951   0.307  0.079  0.335 -0.167  1.000 -0.007 -0.302  0.012 -0.013\n",
      "        6  0.87520   0.278  0.547  0.034  0.448 -0.007  1.000  0.089 -0.767  0.867\n",
      "        7  0.39677  -0.084  0.037  0.105  0.051 -0.302  0.089  1.000 -0.062  0.070\n",
      "        8  0.87338  -0.276 -0.570 -0.022 -0.536  0.012 -0.767 -0.062  1.000 -0.873\n",
      "        9  0.94898   0.312  0.644  0.025  0.606 -0.013  0.867  0.070 -0.873  1.000\n",
      "[#1] INFO:Minization -- RooMinimizer::optimizeConst: deactivating const optimization\n"
     ]
    }
   ],
   "source": [
    "tot.fitTo(dh,Range(massmin,massmax))"
   ]
  },
  {
   "cell_type": "code",
   "execution_count": 24,
   "metadata": {},
   "outputs": [
    {
     "name": "stdout",
     "output_type": "stream",
     "text": [
      "Side Sigma\n",
      "5.26254e-03\n",
      "Left Side\n",
      "0.98798 - 0.99850\n",
      "1.01955223318\n"
     ]
    }
   ],
   "source": [
    "plotmax = hist.GetMaximum()*1.05\n",
    "#sidesigma = sigma.getValV()\n",
    "sidesigma = gamma.getValV()\n",
    "#sidesigma = 4.76572e-03\n",
    "leftlowside = -6.*sidesigma + mean.getValV()\n",
    "leftupside = -4.*sidesigma + mean.getValV()\n",
    "rightlowside = +4.*sidesigma + mean.getValV()\n",
    "rightupside = +6.*sidesigma + mean.getValV()\n",
    "\n",
    "signallow = -3.*sidesigma + mean.getValV()\n",
    "signalup = +3.*sidesigma + mean.getValV()\n",
    "\n",
    "print \"Side Sigma\"\n",
    "print \"%.5e\" % sidesigma\n",
    "print \"Left Side\"\n",
    "print \"%.5f - %.5f\" % (leftlowside,leftupside)\n",
    "print mean.getValV()"
   ]
  },
  {
   "cell_type": "code",
   "execution_count": 28,
   "metadata": {},
   "outputs": [
    {
     "name": "stdout",
     "output_type": "stream",
     "text": [
      "[#1] INFO:Plotting -- RooAbsPdf::plotOn(tot) p.d.f was fitted in range and no explicit plot,norm range was specified, using fit range as default\n",
      "[#1] INFO:Plotting -- RooAbsPdf::plotOn(tot) only plotting range 'fit_nll_tot_dh'\n",
      "[#1] INFO:Plotting -- RooAbsPdf::plotOn(tot) p.d.f. curve is normalized using explicit choice of ranges 'fit_nll_tot_dh'\n",
      "[#1] INFO:NumericIntegration -- RooRealIntegral::init(signal_Int[mass]) using numeric integrator RooIntegrator1D to calculate Int(mass)\n",
      "[#1] INFO:NumericIntegration -- RooRealIntegral::init(tot_Int[mass|fit_nll_tot_dh]_Norm[mass]) using numeric integrator RooIntegrator1D to calculate Int(mass)\n",
      "[#1] INFO:NumericIntegration -- RooRealIntegral::init(signal_Int[mass]) using numeric integrator RooIntegrator1D to calculate Int(mass)\n",
      "[#1] INFO:Plotting -- RooAbsPdf::plotOn(tot) p.d.f was fitted in range and no explicit plot,norm range was specified, using fit range as default\n",
      "[#1] INFO:Plotting -- RooAbsPdf::plotOn(tot) only plotting range 'fit_nll_tot_dh'\n",
      "[#1] INFO:Plotting -- RooAbsPdf::plotOn(tot) p.d.f. curve is normalized using explicit choice of ranges 'fit_nll_tot_dh'\n",
      "[#1] INFO:NumericIntegration -- RooRealIntegral::init(signal_Int[mass]) using numeric integrator RooIntegrator1D to calculate Int(mass)\n",
      "[#1] INFO:NumericIntegration -- RooRealIntegral::init(tot_Int[mass|fit_nll_tot_dh]_Norm[mass]) using numeric integrator RooIntegrator1D to calculate Int(mass)\n",
      "[#1] INFO:NumericIntegration -- RooRealIntegral::init(signal_Int[mass]) using numeric integrator RooIntegrator1D to calculate Int(mass)\n"
     ]
    },
    {
     "name": "stderr",
     "output_type": "stream",
     "text": [
      "Warning in <TCanvas::Constructor>: Deleting canvas with same name: canvas\n",
      "Info in <TCanvas::Print>: png file plots/phi_Phi_hist_all_sw_nonprompt_extra.png has been created\n",
      "Info in <TCanvas::Print>: pdf file plots/phi_Phi_hist_all_sw_nonprompt_extra.pdf has been created\n",
      "Warning in <TCanvas::Constructor>: Deleting canvas with same name: canvas\n",
      "Info in <TCanvas::Print>: png file plots/phi_paramon_Phi_hist_all_sw_nonprompt_extra.png has been created\n",
      "Info in <TCanvas::Print>: pdf file plots/phi_paramon_Phi_hist_all_sw_nonprompt_extra.pdf has been created\n"
     ]
    }
   ],
   "source": [
    "th_mass = JPsi_mass + Phi_mass\n",
    "for param in [False,True]:\n",
    "    cmass = TCanvas(\"canvas\",\"canvas\",1200,1200) ;\n",
    "    \n",
    "\n",
    "    pullpad = TPad(\"pullpad\",\"pullpad\",0.0,0.05,1.0,0.33)\n",
    "    plotpad = TPad(\"histopad\",\"histopad\",0.0,0.35,1.0,1.0)\n",
    "    plotpad.SetFillStyle(4004)\n",
    "    pullpad.SetFillStyle(4004)\n",
    "    plotpad.Draw()\n",
    "    pullpad.Draw()\n",
    "\n",
    "    massFrame = mass.frame()\n",
    "    massFrame.SetTitle(\"Phi signal - SC - NonPrompt\")\n",
    "    dh.plotOn(massFrame,Name(\"Data\"))\n",
    "    tot.plotOn(massFrame,Name(\"Pdf\"))\n",
    "    massFrame.GetYaxis().SetTitleOffset(1.3)\n",
    "    #gauss.plotOn(massFrame,LineColor(kGreen),LineStyle(kDashed),Normalization((sFrac.getValV()*numEvts)/(numEvts)))\n",
    "    #cheb.plotOn(massFrame,LineColor(kMagenta),LineStyle(kDotted),Normalization(((1.0-sFrac.getValV())*numEvts)/(numEvts)))\n",
    "    signal.plotOn(massFrame,LineColor(kGreen),LineStyle(kDashed),Normalization((nSig.getValV())/(numEvts)))\n",
    "    cheb.plotOn(massFrame,LineColor(kGreen),LineStyle(kDashed),Normalization((nBkg.getValV())/(numEvts)))\n",
    "    if param:\n",
    "        tot.paramOn(massFrame,Layout(0.60,0.99,0.75))\n",
    "    plotpad.cd()\n",
    "    massFrame.Draw()\n",
    "\n",
    "    linelow = TLine(leftlowside,0.0,leftlowside,plotmax)\n",
    "    linemidlow = TLine(leftupside,0.0,leftupside,plotmax)\n",
    "    linemidup = TLine(rightlowside,0.0,rightlowside,plotmax)\n",
    "    lineup = TLine(rightupside,0.0,rightupside,plotmax)\n",
    "\n",
    "    linesiglow = TLine(signallow,0.0,signallow,plotmax)\n",
    "    linesigup = TLine(signalup,0.0,signalup,plotmax)\n",
    "\n",
    "    linelow.SetLineColor(kRed)\n",
    "    linemidlow.SetLineColor(kRed)\n",
    "    linemidup.SetLineColor(kRed)\n",
    "    lineup.SetLineColor(kRed)\n",
    "\n",
    "    linesiglow.SetLineColor(kGreen)\n",
    "    linesigup.SetLineColor(kGreen) \n",
    "\n",
    "    linelow.SetLineWidth(2)\n",
    "    linemidlow.SetLineWidth(2)\n",
    "    linemidup.SetLineWidth(2)\n",
    "    lineup.SetLineWidth(2)\n",
    "\n",
    "    linesiglow.SetLineWidth(2)\n",
    "    linesigup.SetLineWidth(2) \n",
    "    \n",
    "    if not param:\n",
    "        linelow.Draw()\n",
    "        linemidlow.Draw()\n",
    "        linemidup.Draw()\n",
    "        lineup.Draw()\n",
    "\n",
    "        linesiglow.Draw()\n",
    "        linesigup.Draw()\n",
    "\n",
    "\n",
    "    hpull = massFrame.pullHist(\"Data\",\"Pdf\")\n",
    "    pullframe = mass.frame(Title(\"Pull Distribution\"))\n",
    "    #pullframe.GetXaxis().SetTitleSize(0.04)\n",
    "    #pullframe.GetYaxis().SetTitleSize(0.03)\n",
    "    ROOT.gStyle.SetTitleFontSize(0.07)\n",
    "    pullpad.cd()\n",
    "\n",
    "    pullframe.addPlotable(hpull,\"P\")\n",
    "    pullframe.Draw()\n",
    "    upLine = TLine(massmin,3.0,massmax,3.0)\n",
    "    upLine.SetLineColor(kRed)\n",
    "    upLine.SetLineStyle(kDashed)\n",
    "    upLine.SetLineWidth(2)\n",
    "    dwLine = TLine(massmin,-3.0,massmax,-3.0)\n",
    "    dwLine.SetLineColor(kRed)\n",
    "    dwLine.SetLineStyle(kDashed)\n",
    "    dwLine.SetLineWidth(2)\n",
    "    dwLine.Draw()\n",
    "    upLine.Draw()\n",
    "    plotname = \"plots/phi_\" \n",
    "    \n",
    "    if param:\n",
    "        plotname += \"paramon_\"\n",
    "        \n",
    "    plotname += histname\n",
    "    cmass.SaveAs(plotname  + \".png\")\n",
    "    #cmass.SaveAs(plotname  + \".eps\")\n",
    "    cmass.SaveAs(plotname  + \".pdf\")"
   ]
  },
  {
   "cell_type": "code",
   "execution_count": 29,
   "metadata": {
    "collapsed": true
   },
   "outputs": [],
   "source": [
    "mass.setRange(\"signalrange\",signallow,signalup)\n",
    "mass.setRange(\"sideleftrange\",leftlowside,leftupside)\n",
    "mass.setRange(\"siderightrange\",rightlowside,rightupside)\n",
    "signalIntegralBkg = cheb.analyticalIntegral(cheb.getAnalyticalIntegral(RooArgSet(mass),RooArgSet(mass)),\"signalrange\")\n",
    "leftsideIntegralBkg = cheb.analyticalIntegral(cheb.getAnalyticalIntegral(RooArgSet(mass),RooArgSet(mass)),\"sideleftrange\")\n",
    "rightsideIntegralBkg = cheb.analyticalIntegral(cheb.getAnalyticalIntegral(RooArgSet(mass),RooArgSet(mass)),\"siderightrange\")"
   ]
  },
  {
   "cell_type": "code",
   "execution_count": 30,
   "metadata": {
    "collapsed": true
   },
   "outputs": [],
   "source": [
    "totIntegralBkg = cheb.analyticalIntegral(cheb.getAnalyticalIntegral(RooArgSet(mass),RooArgSet(mass)))"
   ]
  },
  {
   "cell_type": "code",
   "execution_count": 31,
   "metadata": {
    "collapsed": true
   },
   "outputs": [],
   "source": [
    "#sigBkgEvts = signalIntegralBkg/totIntegralBkg*((1.0-sFrac.getValV())*numEvts)\n",
    "#sidBkgEvts = (leftsideIntegralBkg+rightsideIntegralBkg)/totIntegralBkg*((1.0-sFrac.getValV())*numEvts)\n",
    "sigBkgEvts = signalIntegralBkg/totIntegralBkg*((nBkg.getValV()))\n",
    "sidBkgEvts = (leftsideIntegralBkg+rightsideIntegralBkg)/totIntegralBkg*((nBkg.getValV()))"
   ]
  },
  {
   "cell_type": "code",
   "execution_count": 32,
   "metadata": {},
   "outputs": [
    {
     "name": "stdout",
     "output_type": "stream",
     "text": [
      "1412726.87312\n"
     ]
    }
   ],
   "source": [
    "print sigBkgEvts"
   ]
  },
  {
   "cell_type": "code",
   "execution_count": 33,
   "metadata": {},
   "outputs": [
    {
     "name": "stdout",
     "output_type": "stream",
     "text": [
      "787751.070554\n"
     ]
    }
   ],
   "source": [
    "print sidBkgEvts"
   ]
  },
  {
   "cell_type": "code",
   "execution_count": 34,
   "metadata": {},
   "outputs": [
    {
     "name": "stdout",
     "output_type": "stream",
     "text": [
      "1.79336712564\n"
     ]
    }
   ],
   "source": [
    "ratio = sigBkgEvts/sidBkgEvts\n",
    "print ratio"
   ]
  },
  {
   "cell_type": "code",
   "execution_count": 5,
   "metadata": {
    "collapsed": true
   },
   "outputs": [],
   "source": [
    "theRatio = 1.79336712564\n",
    "siderootfile = \"../rootfiles/X4140_Base_AllDatasets.root\"\n",
    "sidefile  = TFile(siderootfile,\"READ\")"
   ]
  },
  {
   "cell_type": "code",
   "execution_count": 6,
   "metadata": {
    "collapsed": true
   },
   "outputs": [],
   "source": [
    "signalSW = sidefile.Get(\"SW_Mass_Signal\")\n",
    "sideSW_L = sidefile.Get(\"SW_Mass_L_Side\")\n",
    "sideSW_R = sidefile.Get(\"SW_Mass_R_Side\")\n",
    "notrebin = True"
   ]
  },
  {
   "cell_type": "code",
   "execution_count": 7,
   "metadata": {},
   "outputs": [],
   "source": [
    "if notrebin:\n",
    "    signalSW.Rebin(10)\n",
    "    sideSW_L.Rebin(10)\n",
    "    sideSW_R.Rebin(10)\n",
    "    notrebin = False"
   ]
  },
  {
   "cell_type": "code",
   "execution_count": 18,
   "metadata": {
    "collapsed": true
   },
   "outputs": [],
   "source": [
    "side = sideSW_L.Clone()\n",
    "side.Add(sideSW_R)\n",
    "side.Scale(theRatio)\n",
    "sideSW_L.Scale(theRatio)\n",
    "sideSW_R.Scale(theRatio)"
   ]
  },
  {
   "cell_type": "code",
   "execution_count": 19,
   "metadata": {},
   "outputs": [
    {
     "name": "stderr",
     "output_type": "stream",
     "text": [
      "Warning in <TCanvas::Constructor>: Deleting canvas with same name: cB0\n",
      "Info in <TCanvas::Print>: png file plots/X Candidates Mass - SC_sidebands.png has been created\n",
      "Info in <TCanvas::Print>: pdf file plots/X Candidates Mass - SC_sidebands.pdf has been created\n"
     ]
    }
   ],
   "source": [
    "cY = TCanvas(\"cB0\",\"cB0\",1200,800)\n",
    "\n",
    "signalSW.SetFillColor(kBlue)\n",
    "signalSW.SetName(\"X Candidates Mass - SC\")\n",
    "signalSW.SetTitle(\"X Candidates Mass - SC; M(KK#mu#mu)[GeV]; candidates/\" + str(signalSW.GetBinWidth(2)*1000)+ \"MeV\")\n",
    "signalSW.GetYaxis().SetTitleOffset(1.3)\n",
    "#signalSW.SetMarkerColor(kBlack)\n",
    "signalSW.SetFillStyle(3002)\n",
    "signalSW.SetMarkerStyle(ROOT.kFullCircle)\n",
    "signalSW.SetMarkerSize(0.65)\n",
    "signalSW.SetLineColor(kBlack)\n",
    "\n",
    "sideSW_L.SetFillColor(kRed)\n",
    "#sideSW_L.SetMarkerColor(kBlack)\n",
    "sideSW_L.SetFillStyle(3002)\n",
    "sideSW_L.SetMarkerStyle(ROOT.kFullCircle)\n",
    "sideSW_L.SetMarkerSize(0.65)\n",
    "sideSW_L.SetLineColor(kBlack)\n",
    "\n",
    "sideSW_R.SetFillColor(kGreen)\n",
    "#sideSW_R.SetMarkerColor(kBlack)\n",
    "sideSW_R.SetMarkerStyle(ROOT.kFullCircle)\n",
    "sideSW_R.SetMarkerSize(0.65)\n",
    "sideSW_R.SetLineColor(kBlack)\n",
    "sideSW_R.SetFillStyle(3002)\n",
    "\n",
    "side = sideSW_R.Clone()\n",
    "side.Add(sideSW_L,1.0)\n",
    "\n",
    "signalSW.Draw(\"EBar\")\n",
    "#sideSW = sideSW_L.Clone()\n",
    "#sideSW.Add(sideSW_R,+1.0)\n",
    "#sideSW.SetFillColor(kRed)\n",
    "#sideSW.SetFillStyle(3002)\n",
    "#sideSW.Scale(2.0)\n",
    "#sideSW.Draw(\"SAMEBar\")\n",
    "#sideSW_R.Draw(\"E0SAMEBar\")\n",
    "#sideSW_L.Draw(\"E0SAMEBar\")\n",
    "side.Draw(\"E0SAMEBar\")\n",
    "\n",
    "legend = TLegend(0.75,0.45,0.99,0.75)\n",
    "legend.AddEntry(signalSW,\"Signal region (-3.0#sigma,+3.0#sigma)\",\"f\")\n",
    "legend.AddEntry(sideSW_R,\"R-sideband    (+4.0#sigma,+6.0#sigma)\",\"f\")\n",
    "legend.AddEntry(sideSW_L,\"L-sideband    (-6.0#sigma,-4.0#sigma)\",\"f\")\n",
    "legend.Draw()\n",
    "cY.SaveAs(\"plots/\" + signalSW.GetName() + \"_sidebands.png\")\n",
    "cY.SaveAs(\"plots/\" + signalSW.GetName() + \"_sidebands.pdf\")"
   ]
  },
  {
   "cell_type": "code",
   "execution_count": 10,
   "metadata": {},
   "outputs": [
    {
     "data": {
      "text/plain": [
       "True"
      ]
     },
     "execution_count": 10,
     "metadata": {},
     "output_type": "execute_result"
    }
   ],
   "source": [
    "ROOT.gStyle.SetOptStat(0)\n",
    "ySideSub = signalSW.Clone(\"SW Mass\")\n",
    "ySideSub.SetTitle(\"X Mass - #phi sides subtracted; M(KK#mu#mu)[GeV]; candidates/\" + str(signalSW.GetBinWidth(2)*1000)+ \"MeV\")\n",
    "ySideSub.GetYaxis().SetTitleOffset(1.2)\n",
    "#ySideSub.Add(sideSW,-1.0) \n",
    "ySideSub.Add(sideSW_L,-1.0)\n",
    "ySideSub.Add(sideSW_R,-1.0)"
   ]
  },
  {
   "cell_type": "code",
   "execution_count": 17,
   "metadata": {},
   "outputs": [
    {
     "name": "stderr",
     "output_type": "stream",
     "text": [
      "Info in <TCanvas::Print>: png file plots/X Candidates Mass - SC_subtracted.png has been created\n",
      "Info in <TCanvas::Print>: pdf file plots/X Candidates Mass - SC_subtracted.pdf has been created\n"
     ]
    }
   ],
   "source": [
    "th_mass = JPsi_mass + Phi_mass\n",
    "ySideSub.SetFillColor(4004)\n",
    "ySideSub.SetFillStyle(3002)\n",
    "ySideSub.SetMarkerStyle(ROOT.kFullCircle)\n",
    "ySideSub.SetMarkerColor(kBlack)\n",
    "ySideSub.SetMarkerSize(0.8)\n",
    "ySideSub.SetLineColor(kBlack)\n",
    "ySideSub.Draw(\"E0\")\n",
    "lineth = TLine(th_mass,ySideSub.GetMinimum()*1.25,th_mass,ySideSub.GetMaximum()*1.1)\n",
    "lineth.SetLineColor(kBlue)\n",
    "lineth.SetLineWidth(2)\n",
    "lineth.SetLineStyle(kDashed)\n",
    "lineth.Draw()\n",
    "\n",
    "\n",
    "\n",
    "linezero = TLine(ySideSub.GetBinCenter(1),0.0,ySideSub.GetBinCenter(ySideSub.GetNbinsX()),0.0)\n",
    "linezero.SetLineColor(kRed)\n",
    "linezero.SetLineWidth(2)\n",
    "linezero.SetLineStyle(kDotted)\n",
    "linezero.Draw()\n",
    "cY.SaveAs(\"plots/\" + signalSW.GetName() + \"_subtracted.png\")\n",
    "cY.SaveAs(\"plots/\" + signalSW.GetName() + \"_subtracted.pdf\")"
   ]
  },
  {
   "cell_type": "code",
   "execution_count": null,
   "metadata": {
    "collapsed": true
   },
   "outputs": [],
   "source": []
  },
  {
   "cell_type": "code",
   "execution_count": null,
   "metadata": {
    "collapsed": true
   },
   "outputs": [],
   "source": []
  }
 ],
 "metadata": {
  "kernelspec": {
   "display_name": "Python 2",
   "language": "python",
   "name": "python2"
  },
  "language_info": {
   "codemirror_mode": {
    "name": "ipython",
    "version": 2
   },
   "file_extension": ".py",
   "mimetype": "text/x-python",
   "name": "python",
   "nbconvert_exporter": "python",
   "pygments_lexer": "ipython2",
   "version": "2.7.14"
  }
 },
 "nbformat": 4,
 "nbformat_minor": 2
}
