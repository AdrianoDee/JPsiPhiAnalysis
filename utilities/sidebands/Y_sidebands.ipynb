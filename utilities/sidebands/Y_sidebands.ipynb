{
 "cells": [
  {
   "cell_type": "code",
   "execution_count": 1,
   "metadata": {},
   "outputs": [
    {
     "name": "stdout",
     "output_type": "stream",
     "text": [
      "Welcome to JupyROOT 6.10/08\n"
     ]
    }
   ],
   "source": [
    "! . /usr/local/bin/thisroot.sh\n",
    "import ROOT\n",
    "from ROOT import TFile,TH1,TH1F,TCanvas,TLine,TLegend,TPad\n",
    "from ROOT import RooFit"
   ]
  },
  {
   "cell_type": "code",
   "execution_count": 2,
   "metadata": {
    "collapsed": true
   },
   "outputs": [],
   "source": [
    "#! ls ../rootfiles/X4140*.root"
   ]
  },
  {
   "cell_type": "code",
   "execution_count": 3,
   "metadata": {
    "collapsed": true
   },
   "outputs": [],
   "source": [
    "rootfile = \"../rootfiles/X4140_Base_Side4-6_AllData.root\"\n",
    "#rootfile =\"../rootfiles/X4140_MuMuKK_KRe_MuRef_Sidebands5-7_NP3.0_B0Cuts_CW5.15-5.55.root\"\n",
    "#histname = \"Xcand_histo_hlt8_cw_nonprompt_cosalpha\"\n",
    "#histname = \"Phi_hist_all_cw_all_cosalpha\"\n",
    "#histname = \"PhiMassHisto\"\n",
    "#histname = \"SW_PhiMass_NoM\"\n",
    "histname = \"SW_PhiMass\"\n",
    "#histname = \"Xcand_histo_DM_any_cw_nonprompt_cosalpha\"\n",
    "inputfile  = TFile(rootfile,\"READ\")\n",
    "hist = inputfile.Get(histname)\n",
    "c = TCanvas(\"canvas\",\"canvas\",1200,1200) ;\n",
    "hist.SetName(\"SW_Phi_NonPrompt\")\n",
    "hist.SetTitle(\"SW_Phi_NonPrompt\")"
   ]
  },
  {
   "cell_type": "code",
   "execution_count": 4,
   "metadata": {
    "collapsed": true
   },
   "outputs": [],
   "source": [
    "from ROOT import RooRealVar,RooAbsPdf,RooChebychev,RooExponential,RooGaussian\n",
    "from ROOT import RooAbsPdf,RooPlot,RooAddPdf,RooDataHist,RooArgSet,RooArgList\n",
    "from ROOT import RooVoigtian\n",
    "from ROOT import kGreen,kRed,kBlack,kBlue,kDashed,kDotted,kMagenta\n",
    "from ROOT.RooFit import Components,LineColor,LineStyle,Name,Normalization,Layout,Format,Label,Parameters,Range,Title"
   ]
  },
  {
   "cell_type": "code",
   "execution_count": 5,
   "metadata": {
    "collapsed": true
   },
   "outputs": [],
   "source": [
    "massmin = 1.020-0.031\n",
    "massmax = 1.020+0.031\n",
    "phimean = 1.020\n",
    "massbins = (massmax - massmin)/hist.GetBinWidth(2)\n",
    "mass = RooRealVar(\"mass\",\"M(KK)[GeV]\",massmin,massmax)\n",
    "mass.setBins(int(massbins))"
   ]
  },
  {
   "cell_type": "code",
   "execution_count": 6,
   "metadata": {},
   "outputs": [
    {
     "name": "stderr",
     "output_type": "stream",
     "text": [
      "Info in <TCanvas::Print>: png file plots/phiplot_SW_PhiMass.png has been created\n",
      "Info in <TCanvas::Print>: eps file plots/phiplot_SW_PhiMass.eps has been created\n",
      "Info in <TCanvas::Print>: pdf file plots/phiplot_SW_PhiMass.pdf has been created\n"
     ]
    }
   ],
   "source": [
    "hist.GetXaxis().SetRangeUser(massmin,massmax)\n",
    "hist.Draw()\n",
    "plotname = \"plots/phiplot_\" + histname\n",
    "c.SaveAs(plotname  + \".png\")\n",
    "c.SaveAs(plotname  + \".eps\")\n",
    "c.SaveAs(plotname  + \".pdf\")"
   ]
  },
  {
   "cell_type": "code",
   "execution_count": 7,
   "metadata": {
    "collapsed": true
   },
   "outputs": [],
   "source": [
    "mean = RooRealVar(\"mean\",\"mean of gaussian\",phimean,phimean-0.005,phimean+0.005);\n",
    "sigma = RooRealVar(\"sigma\",\"width of gaussian\",0.0013);\n",
    "sigma1 = RooRealVar(\"sigma1\",\"width of gaussian1\",0.002,0.0005,0.05);\n",
    "sigma2 = RooRealVar(\"sigma2\",\"width of gaussian2\",0.004,0.004,0.01);\n",
    "gamma = RooRealVar(\"gamma\",\"gamma of bw\",4.76572e-03,0.001,0.01);\n",
    "\n",
    "a0 = RooRealVar(\"a0\",\"a0\",0.001,-1.,1.)\n",
    "a1 = RooRealVar(\"a1\",\"a1\",0.001,-0.5,0.5)\n",
    "a2 = RooRealVar(\"a2\",\"a2\",-0.00001,-2.,2.)\n",
    "a3 = RooRealVar(\"a3\",\"a3\",0.0)\n",
    "a4 = RooRealVar(\"a4\",\"a4\",0.002,-0.1,0.1)\n",
    "a5 = RooRealVar(\"a5\",\"a5\",0.001,-0.025,0.05)\n",
    "a6 = RooRealVar(\"a6\",\"a6\",0.0,-0.001,0.001)\n",
    "\n",
    "aset = RooArgList(a0,a1,a2,a3,a4,a5)#,a6)\n",
    "nSig = RooRealVar(\"nSig\",\"nSig\",5E5,0.,5.0E6)\n",
    "nBkg = RooRealVar(\"nBkg\",\"nBkg\",2E6,0.,5.0E6)"
   ]
  },
  {
   "cell_type": "code",
   "execution_count": 8,
   "metadata": {
    "collapsed": true
   },
   "outputs": [],
   "source": [
    "cheb = RooChebychev(\"cheb\",\"Background\",mass,aset)\n",
    "#gauss = RooGaussian(\"gauss\",\"gaussian PDF \",mass,mean,sigma)\n",
    "signal = RooVoigtian(\"signal\",\"signal\",mass,mean,gamma,sigma)\n",
    "\n",
    "tot = RooAddPdf(\"tot\",\"g+cheb\",RooArgList(signal,cheb),RooArgList(nSig,nBkg))"
   ]
  },
  {
   "cell_type": "code",
   "execution_count": 9,
   "metadata": {},
   "outputs": [
    {
     "name": "stdout",
     "output_type": "stream",
     "text": [
      "2213156.0\n",
      "[#1] INFO:DataHandling -- RooDataHist::adjustBinning(dh): fit range of variable mass expanded to nearest bin boundaries: [0.989,1.051] --> [0.989,1.051]\n"
     ]
    }
   ],
   "source": [
    "masslist = RooArgList(mass)\n",
    "dh = RooDataHist(\"dh\",\"dh\",masslist,hist)\n",
    "numEvts = dh.sum(False)\n",
    "print numEvts"
   ]
  },
  {
   "cell_type": "code",
   "execution_count": 10,
   "metadata": {},
   "outputs": [
    {
     "data": {
      "text/plain": [
       "<ROOT.RooFitResult object at 0x0>"
      ]
     },
     "execution_count": 10,
     "metadata": {},
     "output_type": "execute_result"
    },
    {
     "name": "stdout",
     "output_type": "stream",
     "text": [
      "[#1] INFO:Minization -- p.d.f. provides expected number of events, including extended term in likelihood.\n",
      "[#1] INFO:Eval -- RooRealVar::setRange(mass) new range named 'fit' created with bounds [0.989,1.051]\n",
      "[#1] INFO:Fitting -- RooAbsOptTestStatistic::ctor(nll_tot_dh) constructing test statistic for sub-range named fit\n",
      "[#1] INFO:Eval -- RooRealVar::setRange(mass) new range named 'NormalizationRangeForfit' created with bounds [0.989,1.051]\n",
      "[#1] INFO:Eval -- RooRealVar::setRange(mass) new range named 'fit_nll_tot_dh' created with bounds [0.989,1.051]\n",
      "[#1] INFO:Fitting -- RooAbsOptTestStatistic::ctor(nll_tot_dh) fixing interpretation of coefficients of any RooAddPdf to full domain of observables \n",
      "[#1] INFO:NumericIntegration -- RooRealIntegral::init(signal_Int[mass]) using numeric integrator RooIntegrator1D to calculate Int(mass)\n",
      "[#1] INFO:NumericIntegration -- RooRealIntegral::init(signal_Int[mass|NormalizationRangeForfit]_Norm[mass]) using numeric integrator RooIntegrator1D to calculate Int(mass)\n",
      "[#1] INFO:Minization -- RooMinimizer::optimizeConst: activating const optimization\n",
      "[#1] INFO:NumericIntegration -- RooRealIntegral::init(signal_Int[mass]) using numeric integrator RooIntegrator1D to calculate Int(mass)\n",
      "[#1] INFO:Minization --  The following expressions will be evaluated in cache-and-track mode: (signal,cheb)\n",
      " **********\n",
      " **    1 **SET PRINT           1\n",
      " **********\n",
      " **********\n",
      " **    2 **SET NOGRAD\n",
      " **********\n",
      " PARAMETER DEFINITIONS:\n",
      "    NO.   NAME         VALUE      STEP SIZE      LIMITS\n",
      "     1 a0           1.00000e-03  2.00000e-01   -1.00000e+00  1.00000e+00\n",
      "     2 a1           1.00000e-03  1.00000e-01   -5.00000e-01  5.00000e-01\n",
      "     3 a2          -1.00000e-05  4.00000e-01   -2.00000e+00  2.00000e+00\n",
      "     4 a4           2.00000e-03  2.00000e-02   -1.00000e-01  1.00000e-01\n",
      "     5 a5           1.00000e-03  7.50000e-03   -2.50000e-02  5.00000e-02\n",
      "     6 gamma        4.76572e-03  9.00000e-04    1.00000e-03  1.00000e-02\n",
      "     7 mean         1.02000e+00  1.00000e-03    1.01500e+00  1.02500e+00\n",
      "     8 nBkg         2.00000e+06  5.00000e+05    0.00000e+00  5.00000e+06\n",
      "     9 nSig         5.00000e+05  2.50000e+05    0.00000e+00  5.00000e+06\n",
      " **********\n",
      " **    3 **SET ERR         0.5\n",
      " **********\n",
      " **********\n",
      " **    4 **SET PRINT           1\n",
      " **********\n",
      " **********\n",
      " **    5 **SET STR           1\n",
      " **********\n",
      " NOW USING STRATEGY  1: TRY TO BALANCE SPEED AGAINST RELIABILITY\n",
      " **********\n",
      " **    6 **MIGRAD        4500           1\n",
      " **********\n",
      " FIRST CALL TO USER FUNCTION AT NEW START POINT, WITH IFLAG=4.\n",
      " START MIGRAD MINIMIZATION.  STRATEGY  1.  CONVERGENCE WHEN EDM .LT. 1.00e-03\n",
      " FCN=-3.62312e+07 FROM MIGRAD    STATUS=INITIATE       60 CALLS          61 TOTAL\n",
      "                     EDM= unknown      STRATEGY= 1      NO ERROR MATRIX       \n",
      "  EXT PARAMETER               CURRENT GUESS       STEP         FIRST   \n",
      "  NO.   NAME      VALUE            ERROR          SIZE      DERIVATIVE \n",
      "   1  a0           1.00000e-03   2.00000e-01   0.00000e+00  -2.51629e+05\n",
      "   2  a1           1.00000e-03   1.00000e-01   0.00000e+00  -2.70012e+04\n",
      "   3  a2          -1.00000e-05   4.00000e-01   0.00000e+00   2.22710e+05\n",
      "   4  a4           2.00000e-03   2.00000e-02   0.00000e+00   5.99358e+03\n",
      "   5  a5           4.99978e-02   7.50000e-03   1.87161e+00  -4.05311e+01\n",
      "   6  gamma        4.76572e-03   9.00000e-04   0.00000e+00  -4.83606e+04\n",
      "   7  mean         1.02000e+00   1.00000e-03   0.00000e+00  -1.22101e+04\n",
      "   8  nBkg         2.00000e+06   5.00000e+05   0.00000e+00   1.71973e+05\n",
      "   9  nSig         5.00000e+05   2.50000e+05   0.00000e+00   4.39276e+05\n",
      "                               ERR DEF= 0.5\n",
      " MINUIT WARNING IN MIGRAD  \n",
      " ============== Negative diagonal element 5 in Error Matrix\n",
      " MINUIT WARNING IN MIGRAD  \n",
      " ============== 1.00053 added to diagonal of error matrix\n",
      "[#0] WARNING:Minization -- RooMinimizerFcn: Minimized function has error status.\n",
      "Returning maximum FCN so far (-3.61013e+07) to force MIGRAD to back out of this region. Error log follows\n",
      "Parameter values: a0=0.942858, a1=-0.290247, a2=-1.99632, a4=-0.0698513, a5=0.0197722, gamma=0.00851463, mean=1.01519, nBkg=4.66391e+06, nSig=995853\n",
      "RooChebychev::cheb[ x=mass coefList=(a0,a1,a2,a3,a4,a5) ]\n",
      "     p.d.f value is less than zero (-0.074087), forcing value to zero @ x=mass=0.99325, coefList=(a0 = 0.942858,a1 = -0.290247,a2 = -1.99632,a3 = 0,a4 = -0.0698513,a5 = 0.0197722)\n",
      "     p.d.f value is less than zero (-0.232527), forcing value to zero @ x=mass=0.99375, coefList=(a0 = 0.942858,a1 = -0.290247,a2 = -1.99632,a3 = 0,a4 = -0.0698513,a5 = 0.0197722)\n",
      "     p.d.f value is less than zero (-0.378430), forcing value to zero @ x=mass=0.99425, coefList=(a0 = 0.942858,a1 = -0.290247,a2 = -1.99632,a3 = 0,a4 = -0.0698513,a5 = 0.0197722)\n",
      "     p.d.f value is less than zero (-0.512267), forcing value to zero @ x=mass=0.99475, coefList=(a0 = 0.942858,a1 = -0.290247,a2 = -1.99632,a3 = 0,a4 = -0.0698513,a5 = 0.0197722)\n",
      "     p.d.f value is less than zero (-0.634494), forcing value to zero @ x=mass=0.99525, coefList=(a0 = 0.942858,a1 = -0.290247,a2 = -1.99632,a3 = 0,a4 = -0.0698513,a5 = 0.0197722)\n",
      "     p.d.f value is less than zero (-0.745549), forcing value to zero @ x=mass=0.99575, coefList=(a0 = 0.942858,a1 = -0.290247,a2 = -1.99632,a3 = 0,a4 = -0.0698513,a5 = 0.0197722)\n",
      "     p.d.f value is less than zero (-0.845856), forcing value to zero @ x=mass=0.99625, coefList=(a0 = 0.942858,a1 = -0.290247,a2 = -1.99632,a3 = 0,a4 = -0.0698513,a5 = 0.0197722)\n",
      "     p.d.f value is less than zero (-0.935823), forcing value to zero @ x=mass=0.99675, coefList=(a0 = 0.942858,a1 = -0.290247,a2 = -1.99632,a3 = 0,a4 = -0.0698513,a5 = 0.0197722)\n",
      "     p.d.f value is less than zero (-1.015844), forcing value to zero @ x=mass=0.99725, coefList=(a0 = 0.942858,a1 = -0.290247,a2 = -1.99632,a3 = 0,a4 = -0.0698513,a5 = 0.0197722)\n",
      "     p.d.f value is less than zero (-1.086300), forcing value to zero @ x=mass=0.99775, coefList=(a0 = 0.942858,a1 = -0.290247,a2 = -1.99632,a3 = 0,a4 = -0.0698513,a5 = 0.0197722)\n",
      "     p.d.f value is less than zero (-1.147556), forcing value to zero @ x=mass=0.99825, coefList=(a0 = 0.942858,a1 = -0.290247,a2 = -1.99632,a3 = 0,a4 = -0.0698513,a5 = 0.0197722)\n",
      "     p.d.f value is less than zero (-1.199966), forcing value to zero @ x=mass=0.99875, coefList=(a0 = 0.942858,a1 = -0.290247,a2 = -1.99632,a3 = 0,a4 = -0.0698513,a5 = 0.0197722)\n",
      "    ... (remaining 33 messages suppressed)\n",
      "\n",
      "[#0] WARNING:Minization -- RooMinimizerFcn: Minimized function has error status.\n",
      "Returning maximum FCN so far (-3.61013e+07) to force MIGRAD to back out of this region. Error log follows\n",
      "Parameter values: a0=0.722374, a1=0.450526, a2=-0.719766, a4=0.0309569, a5=-0.00325334, gamma=0.00272022, mean=1.02064, nBkg=2.31478e+06, nSig=4.75275e+06\n",
      "RooChebychev::cheb[ x=mass coefList=(a0,a1,a2,a3,a4,a5) ]\n",
      "     p.d.f value is less than zero (-0.013556), forcing value to zero @ x=mass=0.99825, coefList=(a0 = 0.722374,a1 = 0.450526,a2 = -0.719766,a3 = 0,a4 = 0.0309569,a5 = -0.00325334)\n",
      "     p.d.f value is less than zero (-0.057352), forcing value to zero @ x=mass=0.99875, coefList=(a0 = 0.722374,a1 = 0.450526,a2 = -0.719766,a3 = 0,a4 = 0.0309569,a5 = -0.00325334)\n",
      "     p.d.f value is less than zero (-0.097748), forcing value to zero @ x=mass=0.99925, coefList=(a0 = 0.722374,a1 = 0.450526,a2 = -0.719766,a3 = 0,a4 = 0.0309569,a5 = -0.00325334)\n",
      "     p.d.f value is less than zero (-0.134768), forcing value to zero @ x=mass=0.99975, coefList=(a0 = 0.722374,a1 = 0.450526,a2 = -0.719766,a3 = 0,a4 = 0.0309569,a5 = -0.00325334)\n",
      "     p.d.f value is less than zero (-0.168442), forcing value to zero @ x=mass=1.00025, coefList=(a0 = 0.722374,a1 = 0.450526,a2 = -0.719766,a3 = 0,a4 = 0.0309569,a5 = -0.00325334)\n",
      "     p.d.f value is less than zero (-0.198801), forcing value to zero @ x=mass=1.00075, coefList=(a0 = 0.722374,a1 = 0.450526,a2 = -0.719766,a3 = 0,a4 = 0.0309569,a5 = -0.00325334)\n",
      "     p.d.f value is less than zero (-0.225882), forcing value to zero @ x=mass=1.00125, coefList=(a0 = 0.722374,a1 = 0.450526,a2 = -0.719766,a3 = 0,a4 = 0.0309569,a5 = -0.00325334)\n",
      "     p.d.f value is less than zero (-0.249722), forcing value to zero @ x=mass=1.00175, coefList=(a0 = 0.722374,a1 = 0.450526,a2 = -0.719766,a3 = 0,a4 = 0.0309569,a5 = -0.00325334)\n",
      "     p.d.f value is less than zero (-0.270365), forcing value to zero @ x=mass=1.00225, coefList=(a0 = 0.722374,a1 = 0.450526,a2 = -0.719766,a3 = 0,a4 = 0.0309569,a5 = -0.00325334)\n",
      "     p.d.f value is less than zero (-0.287854), forcing value to zero @ x=mass=1.00275, coefList=(a0 = 0.722374,a1 = 0.450526,a2 = -0.719766,a3 = 0,a4 = 0.0309569,a5 = -0.00325334)\n",
      "     p.d.f value is less than zero (-0.302237), forcing value to zero @ x=mass=1.00325, coefList=(a0 = 0.722374,a1 = 0.450526,a2 = -0.719766,a3 = 0,a4 = 0.0309569,a5 = -0.00325334)\n",
      "     p.d.f value is less than zero (-0.313566), forcing value to zero @ x=mass=1.00375, coefList=(a0 = 0.722374,a1 = 0.450526,a2 = -0.719766,a3 = 0,a4 = 0.0309569,a5 = -0.00325334)\n",
      "    ... (remaining 21 messages suppressed)\n",
      "\n",
      "[#0] WARNING:Minization -- RooMinimizerFcn: Minimized function has error status.\n",
      "Returning maximum FCN so far (-3.61013e+07) to force MIGRAD to back out of this region. Error log follows\n",
      "Parameter values: a0=-0.836876, a1=0.123942, a2=-1.99241, a4=-0.0745018, a5=0.0336047, gamma=0.00112305, mean=1.02448, nBkg=589275, nSig=4.97202e+06\n",
      "RooChebychev::cheb[ x=mass coefList=(a0,a1,a2,a3,a4,a5) ]\n",
      "     p.d.f value is less than zero (-0.002206), forcing value to zero @ x=mass=0.99875, coefList=(a0 = -0.836876,a1 = 0.123942,a2 = -1.99241,a3 = 0,a4 = -0.0745018,a5 = 0.0336047)\n",
      "     p.d.f value is less than zero (-0.090572), forcing value to zero @ x=mass=0.99925, coefList=(a0 = -0.836876,a1 = 0.123942,a2 = -1.99241,a3 = 0,a4 = -0.0745018,a5 = 0.0336047)\n",
      "     p.d.f value is less than zero (-0.170435), forcing value to zero @ x=mass=0.99975, coefList=(a0 = -0.836876,a1 = 0.123942,a2 = -1.99241,a3 = 0,a4 = -0.0745018,a5 = 0.0336047)\n",
      "     p.d.f value is less than zero (-0.242138), forcing value to zero @ x=mass=1.00025, coefList=(a0 = -0.836876,a1 = 0.123942,a2 = -1.99241,a3 = 0,a4 = -0.0745018,a5 = 0.0336047)\n",
      "     p.d.f value is less than zero (-0.306010), forcing value to zero @ x=mass=1.00075, coefList=(a0 = -0.836876,a1 = 0.123942,a2 = -1.99241,a3 = 0,a4 = -0.0745018,a5 = 0.0336047)\n",
      "     p.d.f value is less than zero (-0.362365), forcing value to zero @ x=mass=1.00125, coefList=(a0 = -0.836876,a1 = 0.123942,a2 = -1.99241,a3 = 0,a4 = -0.0745018,a5 = 0.0336047)\n",
      "     p.d.f value is less than zero (-0.411505), forcing value to zero @ x=mass=1.00175, coefList=(a0 = -0.836876,a1 = 0.123942,a2 = -1.99241,a3 = 0,a4 = -0.0745018,a5 = 0.0336047)\n",
      "     p.d.f value is less than zero (-0.453718), forcing value to zero @ x=mass=1.00225, coefList=(a0 = -0.836876,a1 = 0.123942,a2 = -1.99241,a3 = 0,a4 = -0.0745018,a5 = 0.0336047)\n",
      "     p.d.f value is less than zero (-0.489280), forcing value to zero @ x=mass=1.00275, coefList=(a0 = -0.836876,a1 = 0.123942,a2 = -1.99241,a3 = 0,a4 = -0.0745018,a5 = 0.0336047)\n",
      "     p.d.f value is less than zero (-0.518455), forcing value to zero @ x=mass=1.00325, coefList=(a0 = -0.836876,a1 = 0.123942,a2 = -1.99241,a3 = 0,a4 = -0.0745018,a5 = 0.0336047)\n",
      "     p.d.f value is less than zero (-0.541498), forcing value to zero @ x=mass=1.00375, coefList=(a0 = -0.836876,a1 = 0.123942,a2 = -1.99241,a3 = 0,a4 = -0.0745018,a5 = 0.0336047)\n",
      "     p.d.f value is less than zero (-0.558651), forcing value to zero @ x=mass=1.00425, coefList=(a0 = -0.836876,a1 = 0.123942,a2 = -1.99241,a3 = 0,a4 = -0.0745018,a5 = 0.0336047)\n",
      "    ... (remaining 28 messages suppressed)\n",
      "\n",
      "[#0] WARNING:Minization -- RooMinimizerFcn: Minimized function has error status.\n",
      "Returning maximum FCN so far (-3.61013e+07) to force MIGRAD to back out of this region. Error log follows\n",
      "Parameter values: a0=-0.998684, a1=0.492748, a2=1.47014, a4=-0.0676401, a5=0.0345198, gamma=0.00115114, mean=1.02463, nBkg=207483, nSig=4.91303e+06\n",
      "RooChebychev::cheb[ x=mass coefList=(a0,a1,a2,a3,a4,a5) ]\n",
      "     p.d.f value is less than zero (-0.019523), forcing value to zero @ x=mass=1.02275, coefList=(a0 = -0.998684,a1 = 0.492748,a2 = 1.47014,a3 = 0,a4 = -0.0676401,a5 = 0.0345198)\n",
      "     p.d.f value is less than zero (-0.104024), forcing value to zero @ x=mass=1.02325, coefList=(a0 = -0.998684,a1 = 0.492748,a2 = 1.47014,a3 = 0,a4 = -0.0676401,a5 = 0.0345198)\n",
      "     p.d.f value is less than zero (-0.186568), forcing value to zero @ x=mass=1.02375, coefList=(a0 = -0.998684,a1 = 0.492748,a2 = 1.47014,a3 = 0,a4 = -0.0676401,a5 = 0.0345198)\n",
      "     p.d.f value is less than zero (-0.266995), forcing value to zero @ x=mass=1.02425, coefList=(a0 = -0.998684,a1 = 0.492748,a2 = 1.47014,a3 = 0,a4 = -0.0676401,a5 = 0.0345198)\n",
      "     p.d.f value is less than zero (-0.345146), forcing value to zero @ x=mass=1.02475, coefList=(a0 = -0.998684,a1 = 0.492748,a2 = 1.47014,a3 = 0,a4 = -0.0676401,a5 = 0.0345198)\n",
      "     p.d.f value is less than zero (-0.420869), forcing value to zero @ x=mass=1.02525, coefList=(a0 = -0.998684,a1 = 0.492748,a2 = 1.47014,a3 = 0,a4 = -0.0676401,a5 = 0.0345198)\n",
      "     p.d.f value is less than zero (-0.494012), forcing value to zero @ x=mass=1.02575, coefList=(a0 = -0.998684,a1 = 0.492748,a2 = 1.47014,a3 = 0,a4 = -0.0676401,a5 = 0.0345198)\n",
      "     p.d.f value is less than zero (-0.564429), forcing value to zero @ x=mass=1.02625, coefList=(a0 = -0.998684,a1 = 0.492748,a2 = 1.47014,a3 = 0,a4 = -0.0676401,a5 = 0.0345198)\n",
      "     p.d.f value is less than zero (-0.631976), forcing value to zero @ x=mass=1.02675, coefList=(a0 = -0.998684,a1 = 0.492748,a2 = 1.47014,a3 = 0,a4 = -0.0676401,a5 = 0.0345198)\n",
      "     p.d.f value is less than zero (-0.696514), forcing value to zero @ x=mass=1.02725, coefList=(a0 = -0.998684,a1 = 0.492748,a2 = 1.47014,a3 = 0,a4 = -0.0676401,a5 = 0.0345198)\n",
      "     p.d.f value is less than zero (-0.757904), forcing value to zero @ x=mass=1.02775, coefList=(a0 = -0.998684,a1 = 0.492748,a2 = 1.47014,a3 = 0,a4 = -0.0676401,a5 = 0.0345198)\n",
      "     p.d.f value is less than zero (-0.816013), forcing value to zero @ x=mass=1.02825, coefList=(a0 = -0.998684,a1 = 0.492748,a2 = 1.47014,a3 = 0,a4 = -0.0676401,a5 = 0.0345198)\n",
      "    ... (remaining 36 messages suppressed)\n",
      "\n",
      "[#0] WARNING:Minization -- RooMinimizerFcn: Minimized function has error status.\n",
      "Returning maximum FCN so far (-3.61013e+07) to force MIGRAD to back out of this region. Error log follows\n",
      "Parameter values: a0=0.46191, a1=0.152653, a2=1.99081, a4=-0.0421419, a5=0.0350981, gamma=0.00100523, mean=1.02355, nBkg=1.65501e+06, nSig=4.72549e+06\n",
      "RooChebychev::cheb[ x=mass coefList=(a0,a1,a2,a3,a4,a5) ]\n",
      "     p.d.f value is less than zero (-1.099006), forcing value to zero @ x=mass=0.98925, coefList=(a0 = 0.46191,a1 = 0.152653,a2 = 1.99081,a3 = 0,a4 = -0.0421419,a5 = 0.0350981)\n",
      "     p.d.f value is less than zero (-0.856211), forcing value to zero @ x=mass=0.98975, coefList=(a0 = 0.46191,a1 = 0.152653,a2 = 1.99081,a3 = 0,a4 = -0.0421419,a5 = 0.0350981)\n",
      "     p.d.f value is less than zero (-0.620140), forcing value to zero @ x=mass=0.99025, coefList=(a0 = 0.46191,a1 = 0.152653,a2 = 1.99081,a3 = 0,a4 = -0.0421419,a5 = 0.0350981)\n",
      "     p.d.f value is less than zero (-0.391078), forcing value to zero @ x=mass=0.99075, coefList=(a0 = 0.46191,a1 = 0.152653,a2 = 1.99081,a3 = 0,a4 = -0.0421419,a5 = 0.0350981)\n",
      "     p.d.f value is less than zero (-0.169283), forcing value to zero @ x=mass=0.99125, coefList=(a0 = 0.46191,a1 = 0.152653,a2 = 1.99081,a3 = 0,a4 = -0.0421419,a5 = 0.0350981)\n",
      "     p.d.f value is less than zero (-0.011683), forcing value to zero @ x=mass=1.02475, coefList=(a0 = 0.46191,a1 = 0.152653,a2 = 1.99081,a3 = 0,a4 = -0.0421419,a5 = 0.0350981)\n",
      "     p.d.f value is less than zero (-0.088473), forcing value to zero @ x=mass=1.02525, coefList=(a0 = 0.46191,a1 = 0.152653,a2 = 1.99081,a3 = 0,a4 = -0.0421419,a5 = 0.0350981)\n",
      "     p.d.f value is less than zero (-0.162610), forcing value to zero @ x=mass=1.02575, coefList=(a0 = 0.46191,a1 = 0.152653,a2 = 1.99081,a3 = 0,a4 = -0.0421419,a5 = 0.0350981)\n",
      "     p.d.f value is less than zero (-0.233902), forcing value to zero @ x=mass=1.02625, coefList=(a0 = 0.46191,a1 = 0.152653,a2 = 1.99081,a3 = 0,a4 = -0.0421419,a5 = 0.0350981)\n",
      "     p.d.f value is less than zero (-0.302164), forcing value to zero @ x=mass=1.02675, coefList=(a0 = 0.46191,a1 = 0.152653,a2 = 1.99081,a3 = 0,a4 = -0.0421419,a5 = 0.0350981)\n",
      "     p.d.f value is less than zero (-0.367211), forcing value to zero @ x=mass=1.02725, coefList=(a0 = 0.46191,a1 = 0.152653,a2 = 1.99081,a3 = 0,a4 = -0.0421419,a5 = 0.0350981)\n",
      "     p.d.f value is less than zero (-0.428863), forcing value to zero @ x=mass=1.02775, coefList=(a0 = 0.46191,a1 = 0.152653,a2 = 1.99081,a3 = 0,a4 = -0.0421419,a5 = 0.0350981)\n",
      "    ... (remaining 30 messages suppressed)\n",
      "\n",
      " MIGRAD FAILS TO FIND IMPROVEMENT\n",
      " MACHINE ACCURACY LIMITS FURTHER IMPROVEMENT.\n",
      " MIGRAD MINIMIZATION HAS CONVERGED.\n",
      " MIGRAD WILL VERIFY CONVERGENCE AND ERROR MATRIX.\n",
      " COVARIANCE MATRIX CALCULATED SUCCESSFULLY\n",
      " FCN=-3.63443e+07 FROM HESSE     STATUS=OK             87 CALLS        1086 TOTAL\n",
      "                     EDM=0.110426    STRATEGY= 1      ERROR MATRIX ACCURATE \n",
      "  EXT PARAMETER                                   STEP         FIRST   \n",
      "  NO.   NAME      VALUE            ERROR          SIZE      DERIVATIVE \n",
      "   1  a0           4.07796e-01   1.35408e-03   5.05799e-03  -4.37673e+00\n",
      "   2  a1          -1.60609e-01   1.82506e-03   1.03773e-02  -2.49537e+00\n",
      "   3  a2           4.61267e-02   1.20856e-03   2.07958e-03  -5.90824e+01\n",
      "   4  a4           1.41075e-02   1.14002e-03   4.16805e-02  -1.11712e+00\n",
      "   5  a5          -1.44395e-02   1.33634e-03   1.59879e-01   9.28780e+00\n",
      "   6  gamma        2.92534e-03   1.70890e-04   1.02879e-01   3.00736e+00\n",
      "   7  mean         1.01937e+00   4.55388e-05   3.67502e-02  -4.67233e+00\n",
      "   8  nBkg         2.16157e+06   2.35722e+03   2.49776e-03  -9.38489e+00\n",
      "   9  nSig         5.15751e+04   1.85275e+03   5.77163e-03  -1.28137e+01\n",
      "                               ERR DEF= 0.5\n",
      " MINUIT WARNING IN MIGRAD  \n",
      " ============== Negative diagonal element 5 in Error Matrix\n",
      " MINUIT WARNING IN MIGRAD  \n",
      " ============== 1.00037 added to diagonal of error matrix\n",
      "[#0] WARNING:Minization -- RooMinimizerFcn: Minimized function has error status.\n",
      "Returning maximum FCN so far (-3.61013e+07) to force MIGRAD to back out of this region. Error log follows\n",
      "Parameter values: a0=-0.764824, a1=-0.259314, a2=1.69457, a4=0.0863172, a5=0.0486966, gamma=0.00803923, mean=1.01948, nBkg=4.99174e+06, nSig=2.04274e+06\n",
      "RooChebychev::cheb[ x=mass coefList=(a0,a1,a2,a3,a4,a5) ]\n",
      "     p.d.f value is less than zero (-0.099480), forcing value to zero @ x=mass=0.98925, coefList=(a0 = -0.764824,a1 = -0.259314,a2 = 1.69457,a3 = 0,a4 = 0.0863172,a5 = 0.0486966)\n",
      "     p.d.f value is less than zero (-0.049715), forcing value to zero @ x=mass=1.02775, coefList=(a0 = -0.764824,a1 = -0.259314,a2 = 1.69457,a3 = 0,a4 = 0.0863172,a5 = 0.0486966)\n",
      "     p.d.f value is less than zero (-0.119747), forcing value to zero @ x=mass=1.02825, coefList=(a0 = -0.764824,a1 = -0.259314,a2 = 1.69457,a3 = 0,a4 = 0.0863172,a5 = 0.0486966)\n",
      "     p.d.f value is less than zero (-0.187814), forcing value to zero @ x=mass=1.02875, coefList=(a0 = -0.764824,a1 = -0.259314,a2 = 1.69457,a3 = 0,a4 = 0.0863172,a5 = 0.0486966)\n",
      "     p.d.f value is less than zero (-0.253812), forcing value to zero @ x=mass=1.02925, coefList=(a0 = -0.764824,a1 = -0.259314,a2 = 1.69457,a3 = 0,a4 = 0.0863172,a5 = 0.0486966)\n",
      "     p.d.f value is less than zero (-0.317633), forcing value to zero @ x=mass=1.02975, coefList=(a0 = -0.764824,a1 = -0.259314,a2 = 1.69457,a3 = 0,a4 = 0.0863172,a5 = 0.0486966)\n",
      "     p.d.f value is less than zero (-0.379166), forcing value to zero @ x=mass=1.03025, coefList=(a0 = -0.764824,a1 = -0.259314,a2 = 1.69457,a3 = 0,a4 = 0.0863172,a5 = 0.0486966)\n",
      "     p.d.f value is less than zero (-0.438298), forcing value to zero @ x=mass=1.03075, coefList=(a0 = -0.764824,a1 = -0.259314,a2 = 1.69457,a3 = 0,a4 = 0.0863172,a5 = 0.0486966)\n",
      "     p.d.f value is less than zero (-0.494911), forcing value to zero @ x=mass=1.03125, coefList=(a0 = -0.764824,a1 = -0.259314,a2 = 1.69457,a3 = 0,a4 = 0.0863172,a5 = 0.0486966)\n",
      "     p.d.f value is less than zero (-0.548883), forcing value to zero @ x=mass=1.03175, coefList=(a0 = -0.764824,a1 = -0.259314,a2 = 1.69457,a3 = 0,a4 = 0.0863172,a5 = 0.0486966)\n",
      "     p.d.f value is less than zero (-0.600085), forcing value to zero @ x=mass=1.03225, coefList=(a0 = -0.764824,a1 = -0.259314,a2 = 1.69457,a3 = 0,a4 = 0.0863172,a5 = 0.0486966)\n",
      "     p.d.f value is less than zero (-0.648383), forcing value to zero @ x=mass=1.03275, coefList=(a0 = -0.764824,a1 = -0.259314,a2 = 1.69457,a3 = 0,a4 = 0.0863172,a5 = 0.0486966)\n",
      "    ... (remaining 29 messages suppressed)\n",
      "\n",
      " MIGRAD FAILS TO FIND IMPROVEMENT\n",
      " MACHINE ACCURACY LIMITS FURTHER IMPROVEMENT.\n",
      " MIGRAD MINIMIZATION HAS CONVERGED.\n",
      " MIGRAD WILL VERIFY CONVERGENCE AND ERROR MATRIX.\n",
      " COVARIANCE MATRIX CALCULATED SUCCESSFULLY\n",
      " MIGRAD TERMINATED WITHOUT CONVERGENCE.\n",
      " FCN=-3.63443e+07 FROM MIGRAD    STATUS=FAILED       1227 CALLS        1228 TOTAL\n",
      "                     EDM=0.00259744    STRATEGY= 1      ERR MATRIX APPROXIMATE\n",
      "  EXT PARAMETER                APPROXIMATE        STEP         FIRST   \n",
      "  NO.   NAME      VALUE            ERROR          SIZE      DERIVATIVE \n",
      "   1  a0           4.07935e-01   1.35532e-03   5.05829e-03   2.39529e+00\n",
      "   2  a1          -1.60129e-01   1.83175e-03   1.03734e-02  -2.65782e+00\n",
      "   3  a2           4.62518e-02   1.20939e-03   2.08012e-03   9.28064e+00\n",
      "   4  a4           1.42625e-02   1.14085e-03   4.16777e-02  -4.76389e-01\n",
      "   5  a5          -1.37846e-02   1.33060e-03   1.54458e-01   2.85931e-02\n",
      "   6  gamma        2.94767e-03   1.70848e-04   1.01948e-01   1.19818e-02\n",
      "   7  mean         1.01937e+00   4.54349e-05   3.66027e-02  -5.03450e-01\n",
      "   8  nBkg         2.16109e+06   2.36782e+03   2.49780e-03   2.04620e+00\n",
      "   9  nSig         5.20683e+04   1.86653e+03   5.75754e-03  -1.12062e+01\n",
      "                               ERR DEF= 0.5\n",
      " EXTERNAL ERROR MATRIX.    NDIM=  25    NPAR=  9    ERR DEF=0.5\n",
      "  1.837e-06  9.240e-07  8.066e-07  5.360e-07 -3.245e-07  5.557e-08 -3.358e-09 -7.376e-01  7.362e-01 \n",
      "  9.240e-07  3.355e-06  6.451e-07  4.422e-07 -1.339e-06  1.782e-07  1.656e-09 -2.488e+00  2.483e+00 \n",
      "  8.066e-07  6.451e-07  1.463e-06  4.941e-07 -1.944e-07  2.933e-08  3.694e-09 -4.103e-01  4.095e-01 \n",
      "  5.360e-07  4.422e-07  4.941e-07  1.302e-06 -3.669e-07  3.147e-08 -1.044e-08 -4.871e-01  4.860e-01 \n",
      " -3.245e-07 -1.339e-06 -1.944e-07 -3.669e-07  1.772e-06 -9.474e-08  1.651e-10  1.532e+00 -1.529e+00 \n",
      "  5.557e-08  1.782e-07  2.933e-08  3.147e-08 -9.474e-08  2.921e-08  5.774e-10 -2.668e-01  2.665e-01 \n",
      " -3.358e-09  1.656e-09  3.694e-09 -1.044e-08  1.651e-10  5.774e-10  2.064e-09 -3.140e-03  3.147e-03 \n",
      " -7.376e-01 -2.488e+00 -4.103e-01 -4.871e-01  1.532e+00 -2.668e-01 -3.140e-03  5.607e+06 -3.439e+06 \n",
      "  7.362e-01  2.483e+00  4.095e-01  4.860e-01 -1.529e+00  2.665e-01  3.147e-03 -3.439e+06  3.484e+06 \n",
      "ERR MATRIX APPROXIMATE\n",
      " PARAMETER  CORRELATION COEFFICIENTS  \n",
      "       NO.  GLOBAL      1      2      3      4      5      6      7      8      9\n",
      "        1  0.57446   1.000  0.372  0.492  0.347 -0.180  0.240 -0.055 -0.230  0.291\n",
      "        2  0.76472   0.372  1.000  0.291  0.212 -0.549  0.569  0.020 -0.574  0.726\n",
      "        3  0.56355   0.492  0.291  1.000  0.358 -0.121  0.142  0.067 -0.143  0.181\n",
      "        4  0.49522   0.347  0.212  0.358  1.000 -0.242  0.161 -0.201 -0.180  0.228\n",
      "        5  0.66371  -0.180 -0.549 -0.121 -0.242  1.000 -0.416  0.003  0.486 -0.615\n",
      "        6  0.84645   0.240  0.569  0.142  0.161 -0.416  1.000  0.074 -0.659  0.836\n",
      "        7  0.27765  -0.055  0.020  0.067 -0.201  0.003  0.074  1.000 -0.029  0.037\n",
      "        8  0.77849  -0.230 -0.574 -0.143 -0.180  0.486 -0.659 -0.029  1.000 -0.778\n",
      "        9  0.92656   0.291  0.726  0.181  0.228 -0.615  0.836  0.037 -0.778  1.000\n",
      " ERR MATRIX APPROXIMATE\n",
      " **********\n",
      " **    7 **SET ERR         0.5\n",
      " **********\n",
      " **********\n",
      " **    8 **SET PRINT           1\n",
      " **********\n",
      " **********\n",
      " **    9 **HESSE        4500\n",
      " **********\n",
      " COVARIANCE MATRIX CALCULATED SUCCESSFULLY\n",
      " FCN=-3.63443e+07 FROM HESSE     STATUS=OK             77 CALLS        1305 TOTAL\n",
      "                     EDM=0.00325825    STRATEGY= 1      ERROR MATRIX ACCURATE \n",
      "  EXT PARAMETER                                INTERNAL      INTERNAL  \n",
      "  NO.   NAME      VALUE            ERROR       STEP SIZE       VALUE   \n",
      "   1  a0           4.07935e-01   1.36963e-03   2.02332e-04   4.20191e-01\n",
      "   2  a1          -1.60129e-01   1.95985e-03   4.14936e-04  -3.26002e-01\n",
      "   3  a2           4.62518e-02   1.21739e-03   8.32048e-05   2.31280e-02\n",
      "   4  a4           1.42625e-02   1.15569e-03   1.66711e-03   1.43113e-01\n",
      "   5  a5          -1.37846e-02   1.45009e-03   6.17832e-03   3.91828e+00\n",
      "   6  gamma        2.94767e-03   1.82905e-04   4.07794e-03  -6.03085e-01\n",
      "   7  mean         1.01937e+00   4.52942e-05   1.46411e-03  -1.26240e-01\n",
      "   8  nBkg         2.16109e+06   2.52117e+03   9.99120e-05  -1.35983e-01\n",
      "   9  nSig         5.20683e+04   2.06070e+03   2.30302e-04  -1.36635e+00\n",
      "                               ERR DEF= 0.5\n",
      " EXTERNAL ERROR MATRIX.    NDIM=  25    NPAR=  9    ERR DEF=0.5\n",
      "  1.876e-06  1.047e-06  8.351e-07  5.737e-07 -4.271e-07  6.734e-08 -3.122e-09 -8.873e-01  8.872e-01 \n",
      "  1.047e-06  3.841e-06  7.227e-07  5.689e-07 -1.762e-06  2.238e-07  2.849e-09 -3.088e+00  3.088e+00 \n",
      "  8.351e-07  7.227e-07  1.482e-06  5.186e-07 -2.569e-07  3.581e-08  3.833e-09 -4.999e-01  4.998e-01 \n",
      "  5.737e-07  5.689e-07  5.186e-07  1.336e-06 -4.741e-07  4.364e-08 -1.008e-08 -6.396e-01  6.395e-01 \n",
      " -4.271e-07 -1.762e-06 -2.569e-07 -4.741e-07  2.105e-06 -1.331e-07 -1.167e-09  2.051e+00 -2.050e+00 \n",
      "  6.734e-08  2.238e-07  3.581e-08  4.364e-08 -1.331e-07  3.348e-08  4.605e-10 -3.240e-01  3.240e-01 \n",
      " -3.122e-09  2.849e-09  3.833e-09 -1.008e-08 -1.167e-09  4.605e-10  2.052e-09 -4.186e-03  4.186e-03 \n",
      " -8.873e-01 -3.088e+00 -4.999e-01 -6.396e-01  2.051e+00 -3.240e-01 -4.186e-03  6.356e+06 -4.195e+06 \n",
      "  8.872e-01  3.088e+00  4.998e-01  6.395e-01 -2.050e+00  3.240e-01  4.186e-03 -4.195e+06  4.247e+06 \n",
      " PARAMETER  CORRELATION COEFFICIENTS  \n",
      "       NO.  GLOBAL      1      2      3      4      5      6      7      8      9\n",
      "        1  0.58645   1.000  0.390  0.501  0.362 -0.215  0.269 -0.050 -0.257  0.314\n",
      "        2  0.79831   0.390  1.000  0.303  0.251 -0.620  0.624  0.032 -0.625  0.765\n",
      "        3  0.57142   0.501  0.303  1.000  0.369 -0.145  0.161  0.070 -0.163  0.199\n",
      "        4  0.51469   0.362  0.251  0.369  1.000 -0.283  0.206 -0.193 -0.220  0.269\n",
      "        5  0.72800  -0.215 -0.620 -0.145 -0.283  1.000 -0.502 -0.018  0.561 -0.686\n",
      "        6  0.86836   0.269  0.624  0.161  0.206 -0.502  1.000  0.056 -0.702  0.859\n",
      "        7  0.26954  -0.050  0.032  0.070 -0.193 -0.018  0.056  1.000 -0.037  0.045\n",
      "        8  0.80779  -0.257 -0.625 -0.163 -0.220  0.561 -0.702 -0.037  1.000 -0.807\n",
      "        9  0.94017   0.314  0.765  0.199  0.269 -0.686  0.859  0.045 -0.807  1.000\n",
      "[#1] INFO:Minization -- RooMinimizer::optimizeConst: deactivating const optimization\n"
     ]
    }
   ],
   "source": [
    "tot.fitTo(dh,Range(massmin,massmax))"
   ]
  },
  {
   "cell_type": "code",
   "execution_count": 11,
   "metadata": {},
   "outputs": [
    {
     "name": "stdout",
     "output_type": "stream",
     "text": [
      "Side Sigma\n",
      "2.94767e-03\n",
      "Left Side\n",
      "1.00168 - 1.00758\n",
      "1.01937047694\n"
     ]
    }
   ],
   "source": [
    "plotmax = hist.GetMaximum()*1.05\n",
    "#sidesigma = sigma.getValV()\n",
    "sidesigma = gamma.getValV()\n",
    "#sidesigma = 4.76572e-03\n",
    "leftlowside = -6.*sidesigma + mean.getValV()\n",
    "leftupside = -4.*sidesigma + mean.getValV()\n",
    "rightlowside = +4.*sidesigma + mean.getValV()\n",
    "rightupside = +6.*sidesigma + mean.getValV()\n",
    "\n",
    "signallow = -3.*sidesigma + mean.getValV()\n",
    "signalup = +3.*sidesigma + mean.getValV()\n",
    "\n",
    "print \"Side Sigma\"\n",
    "print \"%.5e\" % sidesigma\n",
    "print \"Left Side\"\n",
    "print \"%.5f - %.5f\" % (leftlowside,leftupside)\n",
    "print mean.getValV()"
   ]
  },
  {
   "cell_type": "code",
   "execution_count": 12,
   "metadata": {},
   "outputs": [
    {
     "name": "stdout",
     "output_type": "stream",
     "text": [
      "[#1] INFO:Plotting -- RooAbsPdf::plotOn(tot) p.d.f was fitted in range and no explicit plot,norm range was specified, using fit range as default\n",
      "[#1] INFO:Plotting -- RooAbsPdf::plotOn(tot) only plotting range 'fit_nll_tot_dh'\n",
      "[#1] INFO:Plotting -- RooAbsPdf::plotOn(tot) p.d.f. curve is normalized using explicit choice of ranges 'fit_nll_tot_dh'\n",
      "[#1] INFO:NumericIntegration -- RooRealIntegral::init(signal_Int[mass]) using numeric integrator RooIntegrator1D to calculate Int(mass)\n",
      "[#1] INFO:NumericIntegration -- RooRealIntegral::init(tot_Int[mass|fit_nll_tot_dh]_Norm[mass]) using numeric integrator RooIntegrator1D to calculate Int(mass)\n",
      "[#1] INFO:NumericIntegration -- RooRealIntegral::init(signal_Int[mass]) using numeric integrator RooIntegrator1D to calculate Int(mass)\n",
      "[#1] INFO:Plotting -- RooAbsPdf::plotOn(tot) p.d.f was fitted in range and no explicit plot,norm range was specified, using fit range as default\n",
      "[#1] INFO:Plotting -- RooAbsPdf::plotOn(tot) only plotting range 'fit_nll_tot_dh'\n",
      "[#1] INFO:Plotting -- RooAbsPdf::plotOn(tot) p.d.f. curve is normalized using explicit choice of ranges 'fit_nll_tot_dh'\n",
      "[#1] INFO:NumericIntegration -- RooRealIntegral::init(signal_Int[mass]) using numeric integrator RooIntegrator1D to calculate Int(mass)\n",
      "[#1] INFO:NumericIntegration -- RooRealIntegral::init(tot_Int[mass|fit_nll_tot_dh]_Norm[mass]) using numeric integrator RooIntegrator1D to calculate Int(mass)\n",
      "[#1] INFO:NumericIntegration -- RooRealIntegral::init(signal_Int[mass]) using numeric integrator RooIntegrator1D to calculate Int(mass)\n"
     ]
    },
    {
     "name": "stderr",
     "output_type": "stream",
     "text": [
      "Warning in <TCanvas::Constructor>: Deleting canvas with same name: canvas\n",
      "Info in <TCanvas::Print>: png file plots/phi_SW_PhiMass.png has been created\n",
      "Info in <TCanvas::Print>: pdf file plots/phi_SW_PhiMass.pdf has been created\n",
      "Warning in <TCanvas::Constructor>: Deleting canvas with same name: canvas\n",
      "Info in <TCanvas::Print>: png file plots/phi_paramon_SW_PhiMass.png has been created\n",
      "Info in <TCanvas::Print>: pdf file plots/phi_paramon_SW_PhiMass.pdf has been created\n"
     ]
    }
   ],
   "source": [
    "for param in [False,True]:\n",
    "    cmass = TCanvas(\"canvas\",\"canvas\",1200,1200) ;\n",
    "    JPsi_mass = 3.096916\n",
    "    Phi_mass = 1.019455\n",
    "    th_mass = JPsi_mass + Phi_mass\n",
    "\n",
    "    pullpad = TPad(\"pullpad\",\"pullpad\",0.0,0.05,1.0,0.33)\n",
    "    plotpad = TPad(\"histopad\",\"histopad\",0.0,0.35,1.0,1.0)\n",
    "    plotpad.SetFillStyle(4004)\n",
    "    pullpad.SetFillStyle(4004)\n",
    "    plotpad.Draw()\n",
    "    pullpad.Draw()\n",
    "\n",
    "    massFrame = mass.frame()\n",
    "    massFrame.SetTitle(\"Phi signal - CC - NonPrompt\")\n",
    "    dh.plotOn(massFrame,Name(\"Data\"))\n",
    "    tot.plotOn(massFrame,Name(\"Pdf\"))\n",
    "    massFrame.GetYaxis().SetTitleOffset(1.3)\n",
    "    #gauss.plotOn(massFrame,LineColor(kGreen),LineStyle(kDashed),Normalization((sFrac.getValV()*numEvts)/(numEvts)))\n",
    "    #cheb.plotOn(massFrame,LineColor(kMagenta),LineStyle(kDotted),Normalization(((1.0-sFrac.getValV())*numEvts)/(numEvts)))\n",
    "    signal.plotOn(massFrame,LineColor(kGreen),LineStyle(kDashed),Normalization((nSig.getValV())/(numEvts)))\n",
    "    cheb.plotOn(massFrame,LineColor(kGreen),LineStyle(kDashed),Normalization((nBkg.getValV())/(numEvts)))\n",
    "    if param:\n",
    "        tot.paramOn(massFrame,Layout(0.60,0.99,0.75))\n",
    "    plotpad.cd()\n",
    "    massFrame.Draw()\n",
    "\n",
    "    linelow = TLine(leftlowside,0.0,leftlowside,plotmax)\n",
    "    linemidlow = TLine(leftupside,0.0,leftupside,plotmax)\n",
    "    linemidup = TLine(rightlowside,0.0,rightlowside,plotmax)\n",
    "    lineup = TLine(rightupside,0.0,rightupside,plotmax)\n",
    "\n",
    "    linesiglow = TLine(signallow,0.0,signallow,plotmax)\n",
    "    linesigup = TLine(signalup,0.0,signalup,plotmax)\n",
    "\n",
    "    linelow.SetLineColor(kRed)\n",
    "    linemidlow.SetLineColor(kRed)\n",
    "    linemidup.SetLineColor(kRed)\n",
    "    lineup.SetLineColor(kRed)\n",
    "\n",
    "    linesiglow.SetLineColor(kGreen)\n",
    "    linesigup.SetLineColor(kGreen) \n",
    "\n",
    "    linelow.SetLineWidth(2)\n",
    "    linemidlow.SetLineWidth(2)\n",
    "    linemidup.SetLineWidth(2)\n",
    "    lineup.SetLineWidth(2)\n",
    "\n",
    "    linesiglow.SetLineWidth(2)\n",
    "    linesigup.SetLineWidth(2) \n",
    "    \n",
    "    if not param:\n",
    "        linelow.Draw()\n",
    "        linemidlow.Draw()\n",
    "        linemidup.Draw()\n",
    "        lineup.Draw()\n",
    "\n",
    "        linesiglow.Draw()\n",
    "        linesigup.Draw()\n",
    "\n",
    "\n",
    "    hpull = massFrame.pullHist(\"Data\",\"Pdf\")\n",
    "    pullframe = mass.frame(Title(\"Pull Distribution\"))\n",
    "    #pullframe.GetXaxis().SetTitleSize(0.04)\n",
    "    #pullframe.GetYaxis().SetTitleSize(0.03)\n",
    "    ROOT.gStyle.SetTitleFontSize(0.07)\n",
    "    pullpad.cd()\n",
    "\n",
    "    pullframe.addPlotable(hpull,\"P\")\n",
    "    pullframe.Draw()\n",
    "    upLine = TLine(massmin,3.0,massmax,3.0)\n",
    "    upLine.SetLineColor(kRed)\n",
    "    upLine.SetLineStyle(kDashed)\n",
    "    upLine.SetLineWidth(2)\n",
    "    dwLine = TLine(massmin,-3.0,massmax,-3.0)\n",
    "    dwLine.SetLineColor(kRed)\n",
    "    dwLine.SetLineStyle(kDashed)\n",
    "    dwLine.SetLineWidth(2)\n",
    "    dwLine.Draw()\n",
    "    upLine.Draw()\n",
    "    plotname = \"plots/phi_\" \n",
    "    \n",
    "    if param:\n",
    "        plotname += \"paramon_\"\n",
    "        \n",
    "    plotname += histname\n",
    "    cmass.SaveAs(plotname  + \".png\")\n",
    "    #cmass.SaveAs(plotname  + \".eps\")\n",
    "    cmass.SaveAs(plotname  + \".pdf\")"
   ]
  },
  {
   "cell_type": "code",
   "execution_count": 13,
   "metadata": {},
   "outputs": [
    {
     "name": "stdout",
     "output_type": "stream",
     "text": [
      "[#1] INFO:Eval -- RooRealVar::setRange(mass) new range named 'signalrange' created with bounds [1.01053,1.02821]\n",
      "[#1] INFO:Eval -- RooRealVar::setRange(mass) new range named 'sideleftrange' created with bounds [1.00168,1.00758]\n",
      "[#1] INFO:Eval -- RooRealVar::setRange(mass) new range named 'siderightrange' created with bounds [1.03116,1.03706]\n"
     ]
    }
   ],
   "source": [
    "mass.setRange(\"signalrange\",signallow,signalup)\n",
    "mass.setRange(\"sideleftrange\",leftlowside,leftupside)\n",
    "mass.setRange(\"siderightrange\",rightlowside,rightupside)\n",
    "signalIntegralBkg = cheb.analyticalIntegral(cheb.getAnalyticalIntegral(RooArgSet(mass),RooArgSet(mass)),\"signalrange\")\n",
    "leftsideIntegralBkg = cheb.analyticalIntegral(cheb.getAnalyticalIntegral(RooArgSet(mass),RooArgSet(mass)),\"sideleftrange\")\n",
    "rightsideIntegralBkg = cheb.analyticalIntegral(cheb.getAnalyticalIntegral(RooArgSet(mass),RooArgSet(mass)),\"siderightrange\")"
   ]
  },
  {
   "cell_type": "code",
   "execution_count": 14,
   "metadata": {
    "collapsed": true
   },
   "outputs": [],
   "source": [
    "totIntegralBkg = cheb.analyticalIntegral(cheb.getAnalyticalIntegral(RooArgSet(mass),RooArgSet(mass)))"
   ]
  },
  {
   "cell_type": "code",
   "execution_count": 15,
   "metadata": {
    "collapsed": true
   },
   "outputs": [],
   "source": [
    "#sigBkgEvts = signalIntegralBkg/totIntegralBkg*((1.0-sFrac.getValV())*numEvts)\n",
    "#sidBkgEvts = (leftsideIntegralBkg+rightsideIntegralBkg)/totIntegralBkg*((1.0-sFrac.getValV())*numEvts)\n",
    "sigBkgEvts = signalIntegralBkg/totIntegralBkg*((nBkg.getValV()))\n",
    "sidBkgEvts = (leftsideIntegralBkg+rightsideIntegralBkg)/totIntegralBkg*((nBkg.getValV()))"
   ]
  },
  {
   "cell_type": "code",
   "execution_count": 16,
   "metadata": {},
   "outputs": [
    {
     "name": "stdout",
     "output_type": "stream",
     "text": [
      "674147.481307\n"
     ]
    }
   ],
   "source": [
    "print sigBkgEvts"
   ]
  },
  {
   "cell_type": "code",
   "execution_count": 17,
   "metadata": {},
   "outputs": [
    {
     "name": "stdout",
     "output_type": "stream",
     "text": [
      "416255.908085\n"
     ]
    }
   ],
   "source": [
    "print sidBkgEvts"
   ]
  },
  {
   "cell_type": "code",
   "execution_count": 26,
   "metadata": {},
   "outputs": [
    {
     "name": "stdout",
     "output_type": "stream",
     "text": [
      "1.61955054142\n"
     ]
    }
   ],
   "source": [
    "ratio = sigBkgEvts/sidBkgEvts\n",
    "print ratio"
   ]
  },
  {
   "cell_type": "code",
   "execution_count": 28,
   "metadata": {
    "collapsed": true
   },
   "outputs": [],
   "source": [
    "theRatio = 1.61955054142\n",
    "siderootfile = \"../rootfiles/X4140_Base_AllDatasets.root\"\n",
    "sidefile  = TFile(siderootfile,\"READ\")"
   ]
  },
  {
   "cell_type": "code",
   "execution_count": 29,
   "metadata": {
    "collapsed": true
   },
   "outputs": [],
   "source": [
    "signalSW = sidefile.Get(\"SW_Mass_Signal\")\n",
    "sideSW_L = sidefile.Get(\"SW_Mass_L_Side\")\n",
    "sideSW_R = sidefile.Get(\"SW_Mass_R_Side\")\n",
    "notrebin = True"
   ]
  },
  {
   "cell_type": "code",
   "execution_count": 30,
   "metadata": {
    "collapsed": true
   },
   "outputs": [],
   "source": [
    "if notrebin:\n",
    "    signalSW.Rebin(10)\n",
    "    sideSW_L.Rebin(10)\n",
    "    sideSW_R.Rebin(10)\n",
    "    notrebin = False"
   ]
  },
  {
   "cell_type": "code",
   "execution_count": 31,
   "metadata": {
    "collapsed": true
   },
   "outputs": [],
   "source": [
    "#sideSW = sideSW_L.Clone()\n",
    "#sideSW.Add(sideSW_R)\n",
    "#sideSW.Scale(ratio)\n",
    "sideSW_L.Scale(theRatio)\n",
    "sideSW_R.Scale(theRatio)"
   ]
  },
  {
   "cell_type": "code",
   "execution_count": 34,
   "metadata": {},
   "outputs": [
    {
     "name": "stderr",
     "output_type": "stream",
     "text": [
      "Warning in <TCanvas::Constructor>: Deleting canvas with same name: cB0\n",
      "Info in <TCanvas::Print>: png file plots/X Candidates Mass - SC_sidebands.png has been created\n",
      "Info in <TCanvas::Print>: pdf file plots/X Candidates Mass - SC_sidebands.pdf has been created\n"
     ]
    }
   ],
   "source": [
    "cY = TCanvas(\"cB0\",\"cB0\",1200,800)\n",
    "\n",
    "signalSW.SetFillColor(kBlue)\n",
    "signalSW.SetName(\"X Candidates Mass - SC\")\n",
    "signalSW.SetTitle(\"X Candidates Mass - SC; M(KK#mu#mu)[GeV]; candidates/\" + str(signalSW.GetBinWidth(2)*1000)+ \"MeV\")\n",
    "signalSW.GetYaxis().SetTitleOffset(1.3)\n",
    "#signalSW.SetMarkerColor(kBlack)\n",
    "signalSW.SetFillStyle(3002)\n",
    "signalSW.SetMarkerStyle(ROOT.kFullCircle)\n",
    "signalSW.SetMarkerSize(0.65)\n",
    "signalSW.SetLineColor(kBlack)\n",
    "\n",
    "sideSW_L.SetFillColor(kRed)\n",
    "#sideSW_L.SetMarkerColor(kBlack)\n",
    "sideSW_L.SetFillStyle(3002)\n",
    "sideSW_L.SetMarkerStyle(ROOT.kFullCircle)\n",
    "sideSW_L.SetMarkerSize(0.65)\n",
    "sideSW_L.SetLineColor(kBlack)\n",
    "\n",
    "sideSW_R.SetFillColor(kGreen)\n",
    "#sideSW_R.SetMarkerColor(kBlack)\n",
    "sideSW_R.SetMarkerStyle(ROOT.kFullCircle)\n",
    "sideSW_R.SetMarkerSize(0.65)\n",
    "sideSW_R.SetLineColor(kBlack)\n",
    "sideSW_R.SetFillStyle(3002)\n",
    "\n",
    "side = sideSW_R.Clone()\n",
    "side.Add(sideSW_L,1.0)\n",
    "\n",
    "signalSW.Draw(\"EBar\")\n",
    "#sideSW = sideSW_L.Clone()\n",
    "#sideSW.Add(sideSW_R,+1.0)\n",
    "#sideSW.SetFillColor(kRed)\n",
    "#sideSW.SetFillStyle(3002)\n",
    "#sideSW.Scale(2.0)\n",
    "#sideSW.Draw(\"SAMEBar\")\n",
    "sideSW_R.Draw(\"E0SAMEBar\")\n",
    "sideSW_L.Draw(\"E0SAMEBar\")\n",
    "#side.Draw(\"E0SAMEBar\")\n",
    "\n",
    "legend = TLegend(0.75,0.45,0.99,0.75)\n",
    "legend.AddEntry(signalSW,\"Signal region (-3.0#sigma,+3.0#sigma)\",\"f\")\n",
    "legend.AddEntry(sideSW_R,\"R-sideband    (+4.0#sigma,+6.0#sigma)\",\"f\")\n",
    "legend.AddEntry(sideSW_L,\"L-sideband    (-6.0#sigma,-4.0#sigma)\",\"f\")\n",
    "legend.Draw()\n",
    "cY.SaveAs(\"plots/\" + signalSW.GetName() + \"_sidebands.png\")\n",
    "cY.SaveAs(\"plots/\" + signalSW.GetName() + \"_sidebands.pdf\")"
   ]
  },
  {
   "cell_type": "code",
   "execution_count": 35,
   "metadata": {},
   "outputs": [
    {
     "data": {
      "text/plain": [
       "True"
      ]
     },
     "execution_count": 35,
     "metadata": {},
     "output_type": "execute_result"
    }
   ],
   "source": [
    "ROOT.gStyle.SetOptStat(0)\n",
    "ySideSub = signalSW.Clone(\"SW Mass\")\n",
    "ySideSub.SetTitle(\"X Mass - #phi sides subtracted; M(KK#mu#mu)[GeV]; candidates/\" + str(signalSW.GetBinWidth(2)*1000)+ \"MeV\")\n",
    "ySideSub.GetYaxis().SetTitleOffset(1.2)\n",
    "#ySideSub.Add(sideSW,-1.0) \n",
    "ySideSub.Add(sideSW_L,-1.0)\n",
    "ySideSub.Add(sideSW_R,-1.0)"
   ]
  },
  {
   "cell_type": "code",
   "execution_count": 36,
   "metadata": {
    "collapsed": true
   },
   "outputs": [],
   "source": [
    "ySideSub.SetFillColor(4004)\n",
    "ySideSub.SetFillStyle(3002)\n",
    "ySideSub.SetMarkerStyle(ROOT.kFullCircle)\n",
    "ySideSub.SetMarkerColor(kBlack)\n",
    "ySideSub.SetMarkerSize(0.8)\n",
    "ySideSub.SetLineColor(kBlack)\n",
    "ySideSub.Draw(\"E0\")\n",
    "lineth = TLine(th_mass,ySideSub.GetMinimum()*1.25,th_mass,ySideSub.GetMaximum()*1.1)\n",
    "lineth.SetLineColor(kBlue)\n",
    "lineth.SetLineWidth(2)\n",
    "lineth.SetLineStyle(kDashed)\n",
    "lineth.Draw()\n",
    "linezero = TLine(ySideSub.GetBinCenter(1),0.0,ySideSub.GetBinCenter(ySideSub.GetNbinsX()),0.0)\n",
    "linezero.SetLineColor(kRed)\n",
    "linezero.SetLineWidth(2)\n",
    "linezero.SetLineStyle(kDotted)\n",
    "linezero.Draw()\n",
    "cY.SaveAs(\"plots/\" + signalSW.GetName() + \"_subtracted.png\")\n",
    "cY.SaveAs(\"plots/\" + signalSW.GetName() + \"_subtracted.pdf\")"
   ]
  },
  {
   "cell_type": "code",
   "execution_count": null,
   "metadata": {
    "collapsed": true
   },
   "outputs": [],
   "source": []
  },
  {
   "cell_type": "code",
   "execution_count": null,
   "metadata": {
    "collapsed": true
   },
   "outputs": [],
   "source": []
  }
 ],
 "metadata": {
  "kernelspec": {
   "display_name": "Python 2",
   "language": "python",
   "name": "python2"
  },
  "language_info": {
   "codemirror_mode": {
    "name": "ipython",
    "version": 2
   },
   "file_extension": ".py",
   "mimetype": "text/x-python",
   "name": "python",
   "nbconvert_exporter": "python",
   "pygments_lexer": "ipython2",
   "version": "2.7.14"
  }
 },
 "nbformat": 4,
 "nbformat_minor": 2
}
