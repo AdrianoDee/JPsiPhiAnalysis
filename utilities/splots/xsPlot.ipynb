{
 "cells": [
  {
   "cell_type": "code",
   "execution_count": 1,
   "metadata": {},
   "outputs": [
    {
     "name": "stdout",
     "output_type": "stream",
     "text": [
      "/bin/sh: /Users/adrianodiflorio/Documents/VirtualEnvs/keras/bin/activate: Permission denied\r\n"
     ]
    }
   ],
   "source": [
    "! $HOME/Documents/VirtualEnvs/keras/bin/activate && . /usr/local/bin/thisroot.sh"
   ]
  },
  {
   "cell_type": "code",
   "execution_count": 2,
   "metadata": {},
   "outputs": [
    {
     "name": "stdout",
     "output_type": "stream",
     "text": [
      "Welcome to JupyROOT 6.10/08\n"
     ]
    }
   ],
   "source": [
    "import ROOT\n",
    "from ROOT import TFile,TH1,TH1F,TCanvas,TNtuple,TTreeReader,TTreeReaderValue\n",
    "from ROOT import RooFit\n",
    "from ROOT.RooFit import Layout\n",
    "from ROOT import RooStats\n",
    "from ROOT import RooAbsData\n",
    "RooAbsData.setDefaultStorageType ( RooAbsData.Tree )\n",
    "from array import array\n",
    "import sys"
   ]
  },
  {
   "cell_type": "code",
   "execution_count": 3,
   "metadata": {
    "collapsed": true
   },
   "outputs": [],
   "source": [
    "from ROOT import RooRealVar,RooAbsPdf,RooChebychev,RooExponential,RooGaussian,RooAbsPdf,RooPlot,RooAddPdf,RooDataHist,RooArgSet,RooArgList\n",
    "from ROOT import kGreen,kRed,kBlack,kBlue,kDashed,kDotted,kMagenta,RooVoigtian\n",
    "from ROOT.RooFit import Components,LineColor,LineStyle,Name,Normalization,Range,SelectVars\n",
    "from ROOT import RooDataSet,RooFormulaVar,RooLinkedList"
   ]
  },
  {
   "cell_type": "code",
   "execution_count": 4,
   "metadata": {
    "collapsed": true
   },
   "outputs": [],
   "source": [
    "rootfile = \"/Users/adrianodiflorio/Desktop/X4140_roots/mumukk_tree.root\" \n",
    "inputfile = TFile(rootfile,\"READ\") \n",
    "xTuple = (inputfile.Get(\"outuple\")) "
   ]
  },
  {
   "cell_type": "code",
   "execution_count": 10,
   "metadata": {},
   "outputs": [
    {
     "name": "stdout",
     "output_type": "stream",
     "text": [
      "9329742\n"
     ]
    }
   ],
   "source": [
    "myReader = TTreeReader(\"outuple\", inputfile)\n",
    "nentries = xTuple.GetEntries()\n",
    "print nentries"
   ]
  },
  {
   "cell_type": "code",
   "execution_count": 11,
   "metadata": {
    "collapsed": true
   },
   "outputs": [],
   "source": [
    "massbins = (6.0 - 4.0)/0.005\n",
    "mass = RooRealVar(\"xM\",\"M(#mu#muKK)[GeV]\",4.0,6.0)\n",
    "mass.setBins(400)\n",
    "lxy = RooRealVar(\"xL\",\"l(xy)\",0.0,10000.)\n",
    "hlt = RooRealVar(\"xHlt\",\"xHlt\",0.0,20.0)\n",
    "masskk = RooRealVar(\"kkM\",\"kkM\",0.5,1.5)\n",
    "masskk.setBins(int(200))\n",
    "massmumu = RooRealVar(\"mumuM\",\"mumuM\",2.5,3.5)"
   ]
  },
  {
   "cell_type": "code",
   "execution_count": 12,
   "metadata": {},
   "outputs": [
    {
     "name": "stdout",
     "output_type": "stream",
     "text": [
      "[#1] INFO:Eval -- RooAbsReal::attachToTree(kkM) TTree Float_t branch kkM will be converted to double precision\n",
      "[#1] INFO:Eval -- RooAbsReal::attachToTree(xM) TTree Float_t branch xM will be converted to double precision\n",
      "[#1] INFO:Eval -- RooAbsReal::attachToTree(xL) TTree Float_t branch xL will be converted to double precision\n",
      "[#1] INFO:Eval -- RooAbsReal::attachToTree(xHlt) TTree Float_t branch xHlt will be converted to double precision\n",
      "[#1] INFO:Eval -- RooAbsReal::attachToTree(mumuM) TTree Float_t branch mumuM will be converted to double precision\n",
      "[#1] INFO:Eval -- RooTreeDataStore::loadValues(alldata) Ignored 27 out of range events\n"
     ]
    }
   ],
   "source": [
    "alldata = RooDataSet(\"alldata\",\"alldata\",xTuple,RooArgSet(masskk,mass,lxy,hlt,massmumu))#,cutFormula)"
   ]
  },
  {
   "cell_type": "code",
   "execution_count": 13,
   "metadata": {},
   "outputs": [
    {
     "data": {
      "text/plain": [
       "9329715"
      ]
     },
     "execution_count": 13,
     "metadata": {},
     "output_type": "execute_result"
    }
   ],
   "source": [
    "alldata.numEntries()"
   ]
  },
  {
   "cell_type": "code",
   "execution_count": null,
   "metadata": {
    "collapsed": true
   },
   "outputs": [],
   "source": [
    "xdataPrompt = (alldata.reduce(SelectVars(RooArgSet(masskk))).reduce('xM<4.8')).reduce('xM>4.0').reduce(\"xL<2.0\").reduce(\"kkM<1.020+0.03\").reduce(\"kkM>1.020-0.3\")\n",
    "xdataPrompt.numEntries()"
   ]
  },
  {
   "cell_type": "code",
   "execution_count": 15,
   "metadata": {
    "collapsed": true
   },
   "outputs": [],
   "source": [
    "phimean = 1.020\n",
    "a0 = RooRealVar(\"a0\",\"a0\",0.001,-1.,1.)\n",
    "a1 = RooRealVar(\"a1\",\"a1\",0.001,-0.5,0.5)\n",
    "a2 = RooRealVar(\"a2\",\"a2\",-0.00001,-2.,2.)\n",
    "a3 = RooRealVar(\"a3\",\"a3\",0.0)#\n",
    "a4 = RooRealVar(\"a4\",\"a4\",0.0,-0.1,0.1)\n",
    "a5 = RooRealVar(\"a5\",\"a5\",0.0,-0.025,0.05)\n",
    "a6 = RooRealVar(\"a6\",\"a6\",0.0,-0.001,0.001)\n",
    "\n",
    "aset = RooArgList(a0,a1,a2)#,a3,a4,a5)\n",
    "\n",
    "sigma = RooRealVar(\"sigma\",\"width of gaussian\",0.0013)\n",
    "gamma = RooRealVar(\"gamma\",\"gamma of bw\",0.004253)#,0.001,0.01)\n",
    "mean = RooRealVar(\"mean\",\"mean of gaussian\",phimean,phimean-0.005,phimean+0.005);\n",
    "\n",
    "nSig = RooRealVar(\"nSig\",\"nSig\",1E6,0.,5.0E6)\n",
    "nBkg = RooRealVar(\"nBkg\",\"nBkg\",5E5,0.,5.0E6)\n",
    "cheb = RooChebychev(\"cheb\",\"Background\",masskk,aset)\n",
    "#gauss = RooGaussian(\"gauss\",\"gaussian PDF \",mass,mean,sigma)\n",
    "signal = RooVoigtian(\"signal\",\"signal\",masskk,mean,gamma,sigma)\n",
    "\n",
    "tot = RooAddPdf(\"tot\",\"g+cheb\",RooArgList(signal,cheb),RooArgList(nSig,nBkg))\n"
   ]
  },
  {
   "cell_type": "code",
   "execution_count": null,
   "metadata": {
    "collapsed": true
   },
   "outputs": [],
   "source": [
    "rPhifit = tot.fitTo(xdataPrompt.reduce(),Range(massmin,massmax))"
   ]
  },
  {
   "cell_type": "code",
   "execution_count": null,
   "metadata": {
    "collapsed": true
   },
   "outputs": [],
   "source": [
    "c = TCanvas(\"canvas\",\"canvas\",1200,800) \n",
    "phiFrame = masskk.frame(Range(massmin,massmax))\n",
    "xdataPrompt.plotOn(phiFrame,RooLinkedList())\n",
    "tot.plotOn(phiFrame)\n",
    "\n",
    "phiFrame.Draw()\n",
    "c.SaveAs(\"phiMassSPlot.png\")\n",
    "c.Clear()"
   ]
  },
  {
   "cell_type": "code",
   "execution_count": null,
   "metadata": {
    "collapsed": true
   },
   "outputs": [],
   "source": [
    "cD=TCanvas(\"cD\",\"cD\",750,600);cD.cd()\n",
    "splot   = RooStats.SPlot ( \"sPlot\",\"sPlot\", xdataPrompt, tot, RooArgList(nSig,nBkg))\n",
    "dstree  = xdataPrompt.store().tree()\n",
    "dstree.GetEntryNumber(88)"
   ]
  },
  {
   "cell_type": "code",
   "execution_count": 19,
   "metadata": {
    "collapsed": true
   },
   "outputs": [],
   "source": [
    "shist   = TH1F('shist','shist', 100, 1.00, 1.05)"
   ]
  },
  {
   "cell_type": "code",
   "execution_count": 20,
   "metadata": {
    "collapsed": true
   },
   "outputs": [],
   "source": [
    "shist.Sumw2()\n",
    "shist.SetLineColor(2)    \n",
    "shist.SetMarkerColor(2); shist.SetMinimum(0.)\n",
    "dstree.Project('shist','kkM','nSig_sw');  "
   ]
  },
  {
   "cell_type": "code",
   "execution_count": 21,
   "metadata": {},
   "outputs": [
    {
     "name": "stderr",
     "output_type": "stream",
     "text": [
      "Info in <TCanvas::Print>: gif file OtherPlot.gif has been created\n"
     ]
    }
   ],
   "source": [
    "shist.Draw('e0');\n",
    "cD.SaveAs('OtherPlotX.gif')"
   ]
  }
 ],
 "metadata": {
  "kernelspec": {
   "display_name": "Python 2",
   "language": "python",
   "name": "python2"
  },
  "language_info": {
   "codemirror_mode": {
    "name": "ipython",
    "version": 2
   },
   "file_extension": ".py",
   "mimetype": "text/x-python",
   "name": "python",
   "nbconvert_exporter": "python",
   "pygments_lexer": "ipython2",
   "version": "2.7.14"
  }
 },
 "nbformat": 4,
 "nbformat_minor": 2
}
