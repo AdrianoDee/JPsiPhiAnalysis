{
 "cells": [
  {
   "cell_type": "code",
   "execution_count": 1,
   "metadata": {},
   "outputs": [
    {
     "name": "stdout",
     "output_type": "stream",
     "text": [
      "/bin/sh: /Users/adrianodiflorio/Documents/VirtualEnvs/keras/bin/activate: Permission denied\r\n"
     ]
    }
   ],
   "source": [
    "! $HOME/Documents/VirtualEnvs/keras/bin/activate && . /usr/local/bin/thisroot.sh"
   ]
  },
  {
   "cell_type": "code",
   "execution_count": 2,
   "metadata": {},
   "outputs": [
    {
     "name": "stdout",
     "output_type": "stream",
     "text": [
      "Welcome to JupyROOT 6.10/08\n"
     ]
    }
   ],
   "source": [
    "import ROOT\n",
    "from ROOT import TFile,TH1,TH1F,TCanvas,TNtuple,TTreeReader,TTreeReaderValue\n",
    "from ROOT import RooFit\n",
    "from ROOT.RooFit import Layout\n",
    "from ROOT import RooStats\n",
    "from ROOT import RooAbsData\n",
    "RooAbsData.setDefaultStorageType ( RooAbsData.Tree )\n",
    "from array import array\n",
    "import sys"
   ]
  },
  {
   "cell_type": "code",
   "execution_count": 3,
   "metadata": {
    "collapsed": true
   },
   "outputs": [],
   "source": [
    "from ROOT import RooRealVar,RooAbsPdf,RooChebychev,RooExponential,RooGaussian,RooAbsPdf,RooPlot,RooAddPdf,RooDataHist,RooArgSet,RooArgList\n",
    "from ROOT import kGreen,kRed,kBlack,kBlue,kDashed,kDotted,kMagenta,RooVoigtian\n",
    "from ROOT.RooFit import Components,LineColor,LineStyle,Name,Normalization,Range,SelectVars\n",
    "from ROOT import RooDataSet,RooFormulaVar,RooLinkedList,RooBernstein"
   ]
  },
  {
   "cell_type": "code",
   "execution_count": 4,
   "metadata": {},
   "outputs": [
    {
     "name": "stdout",
     "output_type": "stream",
     "text": [
      "TFile**\t\t/Users/adrianodiflorio/Documents/Git/X4140/utilities/rootfiles/OniaPhiTree_skim_mmkk_X_PROMPT_2017_BCDEF.root\t\n",
      " TFile*\t\t/Users/adrianodiflorio/Documents/Git/X4140/utilities/rootfiles/OniaPhiTree_skim_mmkk_X_PROMPT_2017_BCDEF.root\t\n",
      "  KEY: TTree\tskimmed_x_tree;23\tskimmed_x_tree\n"
     ]
    }
   ],
   "source": [
    "rootfile = \"/Users/adrianodiflorio/Documents/Git/X4140/utilities/rootfiles/OniaPhiTree_skim_mmkk_X_PROMPT_2017_BCDEF.root\" #mmkk 2017 bcdef Jan 18 run\n",
    "inputfile = TFile(rootfile,\"READ\") \n",
    "inputfile.ls()"
   ]
  },
  {
   "cell_type": "code",
   "execution_count": 5,
   "metadata": {
    "collapsed": true
   },
   "outputs": [],
   "source": [
    "xTree = (inputfile.Get(\"skimmed_x_tree\")) "
   ]
  },
  {
   "cell_type": "code",
   "execution_count": 6,
   "metadata": {
    "collapsed": true
   },
   "outputs": [],
   "source": [
    "massmin = 4.0\n",
    "massmax = 6.0\n",
    "phimin = 1.0045\n",
    "phimax = 1.0344"
   ]
  },
  {
   "cell_type": "code",
   "execution_count": 7,
   "metadata": {},
   "outputs": [],
   "source": [
    "mass = RooRealVar(\"xM\",\"M(#mu#muKK)[GeV]\",massmin,massmax)\n",
    "masskk = RooRealVar(\"phiM\",\"phiM\",phimin,phimax)\n",
    "massmumu = RooRealVar(\"jPsiM\",\"jPsiM\",2.5,3.5)\n",
    "lxy = RooRealVar(\"xL\",\"l(xy)\",0.0,10000.)\n",
    "hlt = RooRealVar(\"xHlt\",\"xHlt\",0.0,20.0)"
   ]
  },
  {
   "cell_type": "code",
   "execution_count": 8,
   "metadata": {},
   "outputs": [
    {
     "name": "stdout",
     "output_type": "stream",
     "text": [
      "[#1] INFO:Eval -- RooTreeDataStore::loadValues(alldata) Ignored 3 out of range events\n"
     ]
    }
   ],
   "source": [
    "alldata = RooDataSet(\"alldata\",\"alldata\",xTree,RooArgSet(masskk,mass,massmumu))"
   ]
  },
  {
   "cell_type": "code",
   "execution_count": 9,
   "metadata": {},
   "outputs": [
    {
     "data": {
      "text/plain": [
       "2374034"
      ]
     },
     "execution_count": 9,
     "metadata": {},
     "output_type": "execute_result"
    }
   ],
   "source": [
    "alldata.numEntries()"
   ]
  },
  {
   "cell_type": "code",
   "execution_count": 10,
   "metadata": {},
   "outputs": [
    {
     "name": "stderr",
     "output_type": "stream",
     "text": [
      "Info in <TCanvas::Print>: png file plots/testmass.png has been created\n"
     ]
    }
   ],
   "source": [
    "alldata.numEntries()\n",
    "c = TCanvas(\"canvas\",\"canvas\",1200,800) \n",
    "\n",
    "massFrame = mass.frame()\n",
    "alldata.plotOn(massFrame)\n",
    "\n",
    "massFrame.Draw()\n",
    "c.SaveAs(\"plots/testmass.png\")"
   ]
  },
  {
   "cell_type": "code",
   "execution_count": 11,
   "metadata": {
    "collapsed": true
   },
   "outputs": [],
   "source": [
    "#b0dataNonPromptMass = b0dataNonPrompt.reduce(SelectVars(RooArgSet(mass)))"
   ]
  },
  {
   "cell_type": "code",
   "execution_count": 12,
   "metadata": {
    "collapsed": true
   },
   "outputs": [],
   "source": [
    "sigma1 = RooRealVar(\"sigma1\",\"width of gaussian1\",0.002,0.0005,0.05);\n",
    "sigma2 = RooRealVar(\"sigma2\",\"width of gaussian2\",0.004,0.004,0.01);\n",
    "\n",
    "phimean = 1.019\n",
    "\n",
    "sigma = RooRealVar(\"sigma\",\"width of gaussian\",0.0013)\n",
    "gamma = RooRealVar(\"gamma\",\"gamma of bw\",0.004253,0.001,0.01)\n",
    "mean = RooRealVar(\"mean\",\"mean of voigtian\",phimean,phimean-0.005,phimean+0.005);\n",
    "\n",
    "a0 = RooRealVar(\"a0\",\"a0\",0.001,-1.,1.)\n",
    "a1 = RooRealVar(\"a1\",\"a1\",0.001,-0.5,0.5)\n",
    "a2 = RooRealVar(\"a2\",\"a2\",-0.00001,-2.,2.)\n",
    "a3 = RooRealVar(\"a3\",\"a3\",-0.000001,-0.1,0.1)\n",
    "a4 = RooRealVar(\"a4\",\"a4\",-0.000001,-2.,2.)\n",
    "a5 = RooRealVar(\"a5\",\"a5\",-0.000001)\n",
    "a6 = RooRealVar(\"a6\",\"a6\",-0.000001,-0.01,0.01)\n",
    "\n",
    "aset = RooArgList(a0,a1,a2)#,a3)\n",
    "\n",
    "B_1     = RooRealVar ( \"B_1\"    , \"B_1 \"    , 0.3  , -20   , 100   )\n",
    "B_2     = RooRealVar ( \"B_2\"    , \"B_2\"    , 0.3  , -20   , 100   )\n",
    "B_3     = RooRealVar ( \"B_3\"    , \"B_3\"    , 0.3  , -20   , 100   )\n",
    "B_4     = RooRealVar ( \"B_4\"    , \"B_4\"    , 0.3  , -20   , 100   )\n",
    "\n",
    "gaussFrac = RooRealVar(\"sig1frac\",\"fraction of component 1 in signal\",0.3,0.0,1.0)\n",
    "nSig = RooRealVar(\"nSig\",\"nSig\",100000,0.,10E6)\n",
    "nBkg = RooRealVar(\"nBkg\",\"nBkg\",55000,0.,10E6)"
   ]
  },
  {
   "cell_type": "code",
   "execution_count": 13,
   "metadata": {},
   "outputs": [],
   "source": [
    "signal = RooVoigtian(\"signal\",\"signal\",masskk,mean,gamma,sigma)\n",
    "bkg    = RooBernstein(\"pdfB\" , \"pdfB\"    , masskk   , RooArgList(B_1, B_2,B_3,B_4))\n",
    "tot = RooAddPdf(\"tot\",\"g+cheb\",RooArgList(signal,bkg),RooArgList(nSig,nBkg))\n",
    "\n",
    "#mean.setValV(phimean)\n",
    "gamma.setConstant(ROOT.kTRUE)\n",
    "mean.setConstant(ROOT.kTRUE)"
   ]
  },
  {
   "cell_type": "code",
   "execution_count": null,
   "metadata": {},
   "outputs": [],
   "source": [
    "rfit = tot.fitTo(alldata,Range(phimin,phimax),RooFit.NumCPU(8))\n",
    "mean.setConstant(ROOT.kFALSE)\n",
    "rfit = tot.fitTo(alldata,Range(phimin,phimax),RooFit.NumCPU(8))\n",
    "gamma.setConstant(ROOT.kFALSE)\n",
    "rfit = tot.fitTo(alldata,Range(phimin,phimax),RooFit.NumCPU(8))"
   ]
  },
  {
   "cell_type": "code",
   "execution_count": null,
   "metadata": {},
   "outputs": [],
   "source": [
    "rfit = tot.fitTo(b0dataNonPrompt,Range(phimin,phimax),RooFit.NumCPU(4))"
   ]
  },
  {
   "cell_type": "code",
   "execution_count": null,
   "metadata": {},
   "outputs": [],
   "source": [
    "massKKFrame = masskk.frame(Range(phimin,phimax))\n",
    "alldata.plotOn(massKKFrame,RooLinkedList())\n",
    "tot.plotOn(massKKFrame)\n",
    "\n",
    "massKKFrame.Draw()\n",
    "c.SaveAs(\"plots/testmassPhiFit.png\")"
   ]
  },
  {
   "cell_type": "code",
   "execution_count": null,
   "metadata": {
    "collapsed": true
   },
   "outputs": [],
   "source": []
  },
  {
   "cell_type": "code",
   "execution_count": null,
   "metadata": {},
   "outputs": [],
   "source": [
    "cD=TCanvas(\"cD\",\"cD\",750,600);cD.cd()\n",
    "splot   = RooStats.SPlot ( \"sPlot\",\"sPlot\", alldata, tot, RooArgList(nSig,nBkg))"
   ]
  },
  {
   "cell_type": "code",
   "execution_count": null,
   "metadata": {},
   "outputs": [],
   "source": [
    "dstree  = alldata.store().tree()\n",
    "dstree.GetEntryNumber(88)"
   ]
  },
  {
   "cell_type": "code",
   "execution_count": null,
   "metadata": {
    "collapsed": true
   },
   "outputs": [],
   "source": [
    "sPlot_B0_hist   = TH1F('sPlot_B0_hist','sPlot_B0_hist', 100, 1.00, 1.05)"
   ]
  },
  {
   "cell_type": "code",
   "execution_count": null,
   "metadata": {
    "collapsed": true
   },
   "outputs": [],
   "source": [
    "sPlot_B0_hist.Sumw2()\n",
    "sPlot_B0_hist.SetLineColor(2)    \n",
    "sPlot_B0_hist.SetMarkerColor(2); \n",
    "sPlot_B0_hist.SetMinimum(0.)\n",
    "dstree.Project('sPlot_B0_hist','xM','nSig_sw');  "
   ]
  },
  {
   "cell_type": "code",
   "execution_count": null,
   "metadata": {},
   "outputs": [],
   "source": [
    "shist.Draw('e0');\n",
    "cD.SaveAs('b0_Splot_Phi.gif')"
   ]
  },
  {
   "cell_type": "code",
   "execution_count": null,
   "metadata": {
    "collapsed": true
   },
   "outputs": [],
   "source": [
    "sys.exit()\n",
    "xdataPrompt = (alldata.reduce('xM<4.8')).reduce('xM>4.0').reduce(\"xL<2.0\")"
   ]
  },
  {
   "cell_type": "code",
   "execution_count": null,
   "metadata": {},
   "outputs": [],
   "source": [
    "massmin = 1.020-0.03\n",
    "massmax = 1.020+0.03\n",
    "phimean = 1.020\n",
    "xdataPrompt.numEntries()"
   ]
  },
  {
   "cell_type": "code",
   "execution_count": null,
   "metadata": {
    "collapsed": true
   },
   "outputs": [],
   "source": [
    "a0 = RooRealVar(\"a0\",\"a0\",0.001,-1.,1.)\n",
    "a1 = RooRealVar(\"a1\",\"a1\",0.001,-0.5,0.5)\n",
    "a2 = RooRealVar(\"a2\",\"a2\",-0.00001,-2.,2.)\n",
    "a3 = RooRealVar(\"a3\",\"a3\",0.0)#\n",
    "a4 = RooRealVar(\"a4\",\"a4\",0.0,-0.1,0.1)\n",
    "a5 = RooRealVar(\"a5\",\"a5\",0.0,-0.025,0.05)\n",
    "a6 = RooRealVar(\"a6\",\"a6\",0.0,-0.001,0.001)\n",
    "\n",
    "aset = RooArgList(a0,a1,a2)#,a3,a4,a5)\n",
    "\n",
    "sigma = RooRealVar(\"sigma\",\"width of gaussian\",0.0013)\n",
    "gamma = RooRealVar(\"gamma\",\"gamma of bw\",0.004253)#,0.001,0.01)\n",
    "mean = RooRealVar(\"mean\",\"mean of gaussian\",phimean,phimean-0.005,phimean+0.005);\n",
    "\n",
    "nSig = RooRealVar(\"nSig\",\"nSig\",1E6,0.,5.0E6)\n",
    "nBkg = RooRealVar(\"nBkg\",\"nBkg\",5E5,0.,5.0E6)\n",
    "cheb = RooChebychev(\"cheb\",\"Background\",masskk,aset)\n",
    "#gauss = RooGaussian(\"gauss\",\"gaussian PDF \",mass,mean,sigma)\n",
    "signal = RooVoigtian(\"signal\",\"signal\",masskk,mean,gamma,sigma)\n",
    "\n",
    "tot = RooAddPdf(\"tot\",\"g+cheb\",RooArgList(signal,cheb),RooArgList(nSig,nBkg))"
   ]
  },
  {
   "cell_type": "code",
   "execution_count": null,
   "metadata": {
    "collapsed": true
   },
   "outputs": [],
   "source": [
    "masskk.setBins(100)\n",
    "mass.setBins(100)\n",
    "h = xdataPrompt.createHistogram(masskk,mass,20,20)\n",
    "h1 = h.ProjectionX()\n",
    "dh1 = RooDataHist(\"kmass\",\"kmass\",RooArgList(masskk),h1)"
   ]
  },
  {
   "cell_type": "code",
   "execution_count": null,
   "metadata": {},
   "outputs": [],
   "source": [
    "rPhifit = tot.fitTo(xdataPrompt,Range(massmin,massmax))"
   ]
  },
  {
   "cell_type": "code",
   "execution_count": null,
   "metadata": {
    "collapsed": true
   },
   "outputs": [],
   "source": [
    "c = TCanvas(\"canvas\",\"canvas\",1200,800) \n",
    "phiFrame = masskk.frame(Range(massmin,massmax))\n",
    "dh1.plotOn(phiFrame,RooLinkedList())\n",
    "tot.plotOn(phiFrame)\n",
    "\n",
    "phiFrame.Draw()\n",
    "c.SaveAs(\"testmassFitPhi2.png\")\n",
    "c.Clear()"
   ]
  },
  {
   "cell_type": "code",
   "execution_count": null,
   "metadata": {
    "collapsed": true
   },
   "outputs": [],
   "source": []
  }
 ],
 "metadata": {
  "kernelspec": {
   "display_name": "Python 2",
   "language": "python",
   "name": "python2"
  },
  "language_info": {
   "codemirror_mode": {
    "name": "ipython",
    "version": 2
   },
   "file_extension": ".py",
   "mimetype": "text/x-python",
   "name": "python",
   "nbconvert_exporter": "python",
   "pygments_lexer": "ipython2",
   "version": "2.7.14"
  }
 },
 "nbformat": 4,
 "nbformat_minor": 2
}
