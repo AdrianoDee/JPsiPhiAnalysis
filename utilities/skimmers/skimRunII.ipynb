{
 "cells": [
  {
   "cell_type": "code",
   "execution_count": 1,
   "metadata": {},
   "outputs": [
    {
     "name": "stdout",
     "output_type": "stream",
     "text": [
      "/bin/sh: /Users/adrianodiflorio/Documents/VirtualEnvs/keras/bin/activate: Permission denied\r\n"
     ]
    }
   ],
   "source": [
    "! $HOME/Documents/VirtualEnvs/keras/bin/activate && . /usr/local/bin/thisroot.sh"
   ]
  },
  {
   "cell_type": "code",
   "execution_count": 2,
   "metadata": {},
   "outputs": [
    {
     "name": "stdout",
     "output_type": "stream",
     "text": [
      "Welcome to JupyROOT 6.10/08\n"
     ]
    }
   ],
   "source": [
    "import ROOT\n",
    "from ROOT import TFile,TH1,TH1F,TCanvas,TNtuple,TTreeReader,TTreeReaderValue\n",
    "from ROOT import RooFit\n",
    "from ROOT.RooFit import Layout\n",
    "from ROOT import RooStats\n",
    "from ROOT import RooAbsData\n",
    "RooAbsData.setDefaultStorageType ( RooAbsData.Tree )\n",
    "from array import array\n",
    "import sys"
   ]
  },
  {
   "cell_type": "code",
   "execution_count": 3,
   "metadata": {
    "collapsed": true
   },
   "outputs": [],
   "source": [
    "from ROOT import RooRealVar,RooAbsPdf,RooChebychev,RooExponential,RooGaussian,RooAbsPdf,RooPlot,RooAddPdf,RooDataHist,RooArgSet,RooArgList\n",
    "from ROOT import kGreen,kRed,kBlack,kBlue,kDashed,kDotted,kMagenta,RooVoigtian\n",
    "from ROOT.RooFit import Components,LineColor,LineStyle,Name,Normalization,Range,SelectVars\n",
    "from ROOT import RooDataSet,RooFormulaVar,RooLinkedList"
   ]
  },
  {
   "cell_type": "code",
   "execution_count": 14,
   "metadata": {},
   "outputs": [
    {
     "data": {
      "text/plain": [
       "'10000'"
      ]
     },
     "execution_count": 14,
     "metadata": {},
     "output_type": "execute_result"
    }
   ],
   "source": [
    "#HLTs\n",
    "# 0'HLT_DoubleMu2_Jpsi_DoubleTkMu0_Phi_v*', -> 0\n",
    "# 1'HLT_Mu20_TkMu0_Phi_v*',  -> 00 \n",
    "# 2'HLT_Dimuon14_Phi_Barrel_Seagulls_v*', -> 000\n",
    "# 3'HLT_Mu25_TkMu0_Phi_v*', -> 0000\n",
    "# 4'HLT_Dimuon24_Phi_noCorrL1_v*' -> 00000\n",
    "# ->5 bits 0-63 \n",
    "# HLT_DoubleMu2_Jpsi_DoubleTkMu0_Phi_v* only = 00001\n",
    "no_hlts = 5\n",
    "bin(16)[2:].zfill(no_hlts)               "
   ]
  },
  {
   "cell_type": "code",
   "execution_count": 4,
   "metadata": {},
   "outputs": [
    {
     "name": "stdout",
     "output_type": "stream",
     "text": [
      "TFile**\t\t/Users/adrianodiflorio/Desktop/mmkk2017/phiJpsiTriggersBCDEF.root\t\n",
      " TFile*\t\t/Users/adrianodiflorio/Desktop/mmkk2017/phiJpsiTriggersBCDEF.root\t\n",
      "  KEY: TDirectoryFile\trootuple;1\trootuple\n",
      "TDirectoryFile*\t\trootuple\trootuple\n",
      " KEY: TTree\txTree;1\tTree of xs\n",
      " KEY: TTree\tjTree;1\tTree of jpsis\n",
      " KEY: TTree\tpTree;1\tTree of phis\n",
      " KEY: TTree\tbTree;1\tTree of bkg\n"
     ]
    },
    {
     "name": "stderr",
     "output_type": "stream",
     "text": [
      "Warning in <TClass::Init>: no dictionary for class reco::Track is available\n",
      "Warning in <TClass::Init>: no dictionary for class reco::TrackBase is available\n",
      "Warning in <TClass::Init>: no dictionary for class reco::HitPattern is available\n",
      "Warning in <TClass::Init>: no dictionary for class edm::Ref<vector<reco::TrackExtra>,reco::TrackExtra,edm::refhelper::FindUsingAdvance<vector<reco::TrackExtra>,reco::TrackExtra> > is available\n",
      "Warning in <TClass::Init>: no dictionary for class edm::RefCoreWithIndex is available\n",
      "Warning in <TClass::Init>: no dictionary for class reco::Vertex is available\n",
      "Warning in <TClass::Init>: no dictionary for class edm::RefToBase<reco::Track> is available\n",
      "Warning in <TClass::Init>: no dictionary for class edm::reftobase::BaseHolder<reco::Track> is available\n"
     ]
    }
   ],
   "source": [
    "#rootfile = \"/Users/adrianodiflorio/Desktop/mmkk2017/09Jan2017.root\"\n",
    "#rootfile = \"/Users/adrianodiflorio/Desktop/mmkk2017/allphi_DataF.root\"\n",
    "rootfile = \"/Users/adrianodiflorio/Desktop/mmkk2017/phiJpsiTriggersBCDEF.root\"\n",
    "inputfile = TFile(rootfile,\"READ\") \n",
    "inputfile.ls()\n",
    "xTupleDir = (inputfile.Get(\"rootuple\")) \n",
    "xTupleDir.ls()\n",
    "pTuple = (xTupleDir.Get(\"pTree\")) \n",
    "xTuple = (xTupleDir.Get(\"xTree\")) \n",
    "jTuple = (xTupleDir.Get(\"jTree\")) "
   ]
  },
  {
   "cell_type": "code",
   "execution_count": 5,
   "metadata": {},
   "outputs": [
    {
     "name": "stdout",
     "output_type": "stream",
     "text": [
      "1575194\n"
     ]
    }
   ],
   "source": [
    "#myReader = TTreeReader(\"chiTree\", inputfile)\n",
    "nentries = xTuple.GetEntries()\n",
    "print nentries"
   ]
  },
  {
   "cell_type": "code",
   "execution_count": 6,
   "metadata": {
    "collapsed": true
   },
   "outputs": [],
   "source": [
    "massbins = (0.5 - 1.5)/0.005\n",
    "mass = RooRealVar(\"x_mass\",\"M(#mu#mu#mu#mu)[GeV]\",0.5,1.5)"
   ]
  },
  {
   "cell_type": "code",
   "execution_count": null,
   "metadata": {
    "collapsed": true
   },
   "outputs": [],
   "source": [
    "#alldata = RooDataSet(\"alldata\",\"alldata\",xTuple,RooArgSet(mass))#,cutFormula)"
   ]
  },
  {
   "cell_type": "code",
   "execution_count": null,
   "metadata": {
    "collapsed": true
   },
   "outputs": [],
   "source": [
    "#alldata.numEntries()"
   ]
  },
  {
   "cell_type": "code",
   "execution_count": 41,
   "metadata": {},
   "outputs": [
    {
     "name": "stderr",
     "output_type": "stream",
     "text": [
      "Warning in <TCanvas::Constructor>: Deleting canvas with same name: canvas\n",
      "Info in <TCanvas::Print>: png file testXMassAllTriggers.png has been created\n",
      "Info in <TCanvas::Print>: png file testXMassJPsiPhiTriggers2.png has been created\n"
     ]
    }
   ],
   "source": [
    "c = TCanvas(\"canvas\",\"canvas\",1200,800) \n",
    "xTuple.Draw(\"xM>>hxM(11,5.15,5.55)\",\"xM < 5.55 && xM > 5.15 && vProb > 0.05 && cosAlpha>0.995 && ctauPV/ctauErrPV > 3.5 && phi_M > 0.98 && phi_M < 1.08 && jpsi_M > 3.05 && jpsi_M < 3.15\")\n",
    "c.SaveAs(\"testXMassAllTriggers.png\")\n",
    "c.Clear()\n",
    "xTuple.Draw(\"xM>>hxM(19,5.15,5.55)\",\"xM < 5.55 && xM > 5.15 && vProb > 0.05 && cosAlpha>0.995 && ctauPV/ctauErrPV > 3.0 && phi_M > 0.98 && phi_M < 1.08 && jpsi_M > 3.05 && jpsi_M < 3.15\")\n",
    "c.SaveAs(\"testXMassJPsiPhiTriggers2.png\")"
   ]
  },
  {
   "cell_type": "code",
   "execution_count": 34,
   "metadata": {},
   "outputs": [
    {
     "name": "stderr",
     "output_type": "stream",
     "text": [
      "Warning in <TCanvas::Constructor>: Deleting canvas with same name: canvas\n",
      "Info in <TCanvas::Print>: png file testPhiMassTriggers.png has been created\n",
      "Info in <TCanvas::Print>: png file testPhiMassAllTriggers.png has been created\n",
      "Info in <TCanvas::Print>: png file testPhiMassAllTriggersFiltered.png has been created\n",
      "Info in <TCanvas::Print>: png file testPhiMassAllTriggersFilteredVertexing.png has been created\n",
      "Error in <TTreeFormula::Compile>:  Invalid Syntax \"==\"\n",
      "Info in <TSelectorDraw::AbortProcess>: Variable compilation failed: {xM,trigger %2 == }\n",
      "Info in <TCanvas::Print>: png file testXMassTriggers.png has been created\n",
      "Info in <TCanvas::Print>: png file testXMassAllTriggers.png has been created\n",
      "Info in <TCanvas::Print>: png file testXPhiMassTriggers.png has been created\n",
      "Info in <TCanvas::Print>: png file testXPhiMassAllTriggers.png has been created\n",
      "Info in <TCanvas::Print>: png file testXJPsiMassAllTriggers.png has been created\n",
      "Info in <TCanvas::Print>: png file testJPsiMassAllTriggers.png has been created\n",
      "Info in <TCanvas::Print>: png file testJPsiMassTriggers.png has been created\n",
      "Info in <TCanvas::Print>: png file testJPsiMassAllTriggersFilter.png has been created\n"
     ]
    }
   ],
   "source": [
    "c = TCanvas(\"canvas\",\"canvas\",1200,800) \n",
    "#frame = mass.frame(Range(0.0,20.0))\n",
    "#alldata.plotOn(frame,RooLinkedList())\n",
    "\n",
    "#frame.Draw()\n",
    "pTuple.Draw(\"pM\",\"trigger %2 == 1\")\n",
    "c.SaveAs(\"testPhiMassTriggers.png\")\n",
    "c.Clear()\n",
    "\n",
    "pTuple.Draw(\"pM\")\n",
    "c.SaveAs(\"testPhiMassAllTriggers.png\")\n",
    "c.Clear()\n",
    "\n",
    "pTuple.Draw(\"pM\",\"p_triggerMatch > 0\")\n",
    "c.SaveAs(\"testPhiMassAllTriggersFiltered.png\")\n",
    "c.Clear()\n",
    "\n",
    "pTuple.Draw(\"pM\",\"p_triggerMatch > 0 && p_vProb > 0.01\")\n",
    "c.SaveAs(\"testPhiMassAllTriggersFilteredVertexing.png\")\n",
    "c.Clear()\n",
    "\n",
    "xTuple.Draw(\"xM\",\"trigger %2 == \")\n",
    "c.SaveAs(\"testXMassTriggers.png\")\n",
    "c.Clear()\n",
    "\n",
    "xTuple.Draw(\"xM && vProb > 0.01\")\n",
    "c.SaveAs(\"testXMassAllTriggers.png\")\n",
    "c.Clear()\n",
    "\n",
    "xTuple.Draw(\"phi_M>>hphi_M(50,0.8,1.25)\",\"trigger %2 == 0 && vProb > 0.01 && ctauPV/ctauErrPV > 3.0\")\n",
    "c.SaveAs(\"testXPhiMassTriggers.png\")\n",
    "c.Clear()\n",
    "\n",
    "xTuple.Draw(\"phi_M\")\n",
    "c.SaveAs(\"testXPhiMassAllTriggers.png\")\n",
    "c.Clear()\n",
    "\n",
    "xTuple.Draw(\"jpsi_M\",\"trigger %2 == 0 && vProb > 0.01 && ctauPV/ctauErrPV > 3.0\")\n",
    "c.SaveAs(\"testXJPsiMassAllTriggers.png\")\n",
    "c.Clear()\n",
    "\n",
    "jTuple.Draw(\"jM\")\n",
    "c.SaveAs(\"testJPsiMassAllTriggers.png\")\n",
    "c.Clear()\n",
    "\n",
    "jTuple.Draw(\"jM\",\"trigger %2 == 0\")\n",
    "c.SaveAs(\"testJPsiMassTriggers.png\")\n",
    "c.Clear()\n",
    "\n",
    "jTuple.Draw(\"jM\",\"j_triggerMatch > 0\")\n",
    "c.SaveAs(\"testJPsiMassAllTriggersFilter.png\")\n",
    "c.Clear()"
   ]
  },
  {
   "cell_type": "code",
   "execution_count": null,
   "metadata": {
    "collapsed": true
   },
   "outputs": [],
   "source": [
    "mass = RooRealVar(\"xM\",\"M(#mu#mu#mu#mu)[GeV]\",5.15,5.55)\n",
    "alldata = RooDataSet(\"alldata\",\"alldata\",xTuple,RooArgSet(mass),\"vProb > 0.01 && cosAlpha>0.995 && ctauPV/ctauErrPV > 3.0 && phi_M > 0.98 && phi_M < 1.05 && jpsi_M > 3.02 && jpsi_M < 3.15\")#,cutFormula)\n",
    "frame = mass.frame(Range(5.15,5.55))\n",
    "alldata.plotOn(frame,RooLinkedList())\n",
    "\n",
    "frame.Draw()\n"
   ]
  },
  {
   "cell_type": "code",
   "execution_count": null,
   "metadata": {
    "collapsed": true
   },
   "outputs": [],
   "source": [
    "c.SaveAs(\"testXMassDataset.png\")"
   ]
  },
  {
   "cell_type": "code",
   "execution_count": 11,
   "metadata": {},
   "outputs": [
    {
     "ename": "NameError",
     "evalue": "name 'masskk' is not defined",
     "output_type": "error",
     "traceback": [
      "\u001b[0;31m\u001b[0m",
      "\u001b[0;31mNameError\u001b[0mTraceback (most recent call last)",
      "\u001b[0;32m<ipython-input-11-423513800eab>\u001b[0m in \u001b[0;36m<module>\u001b[0;34m()\u001b[0m\n\u001b[0;32m----> 1\u001b[0;31m \u001b[0mxdataPrompt\u001b[0m \u001b[0;34m=\u001b[0m \u001b[0;34m(\u001b[0m\u001b[0malldata\u001b[0m\u001b[0;34m.\u001b[0m\u001b[0mreduce\u001b[0m\u001b[0;34m(\u001b[0m\u001b[0mSelectVars\u001b[0m\u001b[0;34m(\u001b[0m\u001b[0mRooArgSet\u001b[0m\u001b[0;34m(\u001b[0m\u001b[0mmasskk\u001b[0m\u001b[0;34m)\u001b[0m\u001b[0;34m)\u001b[0m\u001b[0;34m)\u001b[0m\u001b[0;34m.\u001b[0m\u001b[0mreduce\u001b[0m\u001b[0;34m(\u001b[0m\u001b[0;34m'xM<4.8'\u001b[0m\u001b[0;34m)\u001b[0m\u001b[0;34m)\u001b[0m\u001b[0;34m.\u001b[0m\u001b[0mreduce\u001b[0m\u001b[0;34m(\u001b[0m\u001b[0;34m'xM>4.0'\u001b[0m\u001b[0;34m)\u001b[0m\u001b[0;34m.\u001b[0m\u001b[0mreduce\u001b[0m\u001b[0;34m(\u001b[0m\u001b[0;34m\"xL<2.0\"\u001b[0m\u001b[0;34m)\u001b[0m\u001b[0;34m.\u001b[0m\u001b[0mreduce\u001b[0m\u001b[0;34m(\u001b[0m\u001b[0;34m\"kkM<1.020+0.03\"\u001b[0m\u001b[0;34m)\u001b[0m\u001b[0;34m.\u001b[0m\u001b[0mreduce\u001b[0m\u001b[0;34m(\u001b[0m\u001b[0;34m\"kkM>1.020-0.3\"\u001b[0m\u001b[0;34m)\u001b[0m\u001b[0;34m\u001b[0m\u001b[0m\n\u001b[0m\u001b[1;32m      2\u001b[0m \u001b[0mxdataPrompt\u001b[0m\u001b[0;34m.\u001b[0m\u001b[0mnumEntries\u001b[0m\u001b[0;34m(\u001b[0m\u001b[0;34m)\u001b[0m\u001b[0;34m\u001b[0m\u001b[0m\n",
      "\u001b[0;31mNameError\u001b[0m: name 'masskk' is not defined"
     ]
    }
   ],
   "source": [
    "xdataPrompt = (alldata.reduce(SelectVars(RooArgSet(masskk))).reduce('xM<4.8')).reduce('xM>4.0').reduce(\"xL<2.0\").reduce(\"kkM<1.020+0.03\").reduce(\"kkM>1.020-0.3\")\n",
    "xdataPrompt.numEntries()"
   ]
  },
  {
   "cell_type": "code",
   "execution_count": 15,
   "metadata": {
    "collapsed": true
   },
   "outputs": [],
   "source": [
    "phimean = 1.020\n",
    "a0 = RooRealVar(\"a0\",\"a0\",0.001,-1.,1.)\n",
    "a1 = RooRealVar(\"a1\",\"a1\",0.001,-0.5,0.5)\n",
    "a2 = RooRealVar(\"a2\",\"a2\",-0.00001,-2.,2.)\n",
    "a3 = RooRealVar(\"a3\",\"a3\",0.0)#\n",
    "a4 = RooRealVar(\"a4\",\"a4\",0.0,-0.1,0.1)\n",
    "a5 = RooRealVar(\"a5\",\"a5\",0.0,-0.025,0.05)\n",
    "a6 = RooRealVar(\"a6\",\"a6\",0.0,-0.001,0.001)\n",
    "\n",
    "aset = RooArgList(a0,a1,a2)#,a3,a4,a5)\n",
    "\n",
    "sigma = RooRealVar(\"sigma\",\"width of gaussian\",0.0013)\n",
    "gamma = RooRealVar(\"gamma\",\"gamma of bw\",0.004253)#,0.001,0.01)\n",
    "mean = RooRealVar(\"mean\",\"mean of gaussian\",phimean,phimean-0.005,phimean+0.005);\n",
    "\n",
    "nSig = RooRealVar(\"nSig\",\"nSig\",1E6,0.,5.0E6)\n",
    "nBkg = RooRealVar(\"nBkg\",\"nBkg\",5E5,0.,5.0E6)\n",
    "cheb = RooChebychev(\"cheb\",\"Background\",masskk,aset)\n",
    "#gauss = RooGaussian(\"gauss\",\"gaussian PDF \",mass,mean,sigma)\n",
    "signal = RooVoigtian(\"signal\",\"signal\",masskk,mean,gamma,sigma)\n",
    "\n",
    "tot = RooAddPdf(\"tot\",\"g+cheb\",RooArgList(signal,cheb),RooArgList(nSig,nBkg))\n"
   ]
  },
  {
   "cell_type": "code",
   "execution_count": null,
   "metadata": {
    "collapsed": true
   },
   "outputs": [],
   "source": [
    "rPhifit = tot.fitTo(xdataPrompt.reduce(),Range(massmin,massmax))"
   ]
  },
  {
   "cell_type": "code",
   "execution_count": null,
   "metadata": {
    "collapsed": true
   },
   "outputs": [],
   "source": [
    "c = TCanvas(\"canvas\",\"canvas\",1200,800) \n",
    "phiFrame = masskk.frame(Range(massmin,massmax))\n",
    "xdataPrompt.plotOn(phiFrame,RooLinkedList())\n",
    "tot.plotOn(phiFrame)\n",
    "\n",
    "phiFrame.Draw()\n",
    "c.SaveAs(\"phiMassSPlot.png\")\n",
    "c.Clear()"
   ]
  },
  {
   "cell_type": "code",
   "execution_count": null,
   "metadata": {
    "collapsed": true
   },
   "outputs": [],
   "source": [
    "cD=TCanvas(\"cD\",\"cD\",750,600);cD.cd()\n",
    "splot   = RooStats.SPlot ( \"sPlot\",\"sPlot\", xdataPrompt, tot, RooArgList(nSig,nBkg))\n",
    "dstree  = xdataPrompt.store().tree()\n",
    "dstree.GetEntryNumber(88)"
   ]
  },
  {
   "cell_type": "code",
   "execution_count": 19,
   "metadata": {
    "collapsed": true
   },
   "outputs": [],
   "source": [
    "shist   = TH1F('shist','shist', 100, 1.00, 1.05)"
   ]
  },
  {
   "cell_type": "code",
   "execution_count": 20,
   "metadata": {
    "collapsed": true
   },
   "outputs": [],
   "source": [
    "shist.Sumw2()\n",
    "shist.SetLineColor(2)    \n",
    "shist.SetMarkerColor(2); shist.SetMinimum(0.)\n",
    "dstree.Project('shist','kkM','nSig_sw');  "
   ]
  },
  {
   "cell_type": "code",
   "execution_count": 21,
   "metadata": {},
   "outputs": [
    {
     "name": "stderr",
     "output_type": "stream",
     "text": [
      "Info in <TCanvas::Print>: gif file OtherPlot.gif has been created\n"
     ]
    }
   ],
   "source": [
    "shist.Draw('e0');\n",
    "cD.SaveAs('OtherPlotX.gif')"
   ]
  }
 ],
 "metadata": {
  "kernelspec": {
   "display_name": "Python 2",
   "language": "python",
   "name": "python2"
  },
  "language_info": {
   "codemirror_mode": {
    "name": "ipython",
    "version": 2
   },
   "file_extension": ".py",
   "mimetype": "text/x-python",
   "name": "python",
   "nbconvert_exporter": "python",
   "pygments_lexer": "ipython2",
   "version": "2.7.14"
  }
 },
 "nbformat": 4,
 "nbformat_minor": 2
}
