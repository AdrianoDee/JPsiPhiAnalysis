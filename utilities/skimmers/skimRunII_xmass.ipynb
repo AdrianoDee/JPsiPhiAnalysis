{
 "cells": [
  {
   "cell_type": "code",
   "execution_count": 1,
   "metadata": {},
   "outputs": [
    {
     "name": "stdout",
     "output_type": "stream",
     "text": [
      "/bin/sh: /Users/adrianodiflorio/Documents/VirtualEnvs/keras/bin/activate: Permission denied\r\n"
     ]
    }
   ],
   "source": [
    "! $HOME/Documents/VirtualEnvs/keras/bin/activate && . /usr/local/bin/thisroot.sh"
   ]
  },
  {
   "cell_type": "code",
   "execution_count": 2,
   "metadata": {},
   "outputs": [
    {
     "name": "stdout",
     "output_type": "stream",
     "text": [
      "Welcome to JupyROOT 6.10/08\n"
     ]
    }
   ],
   "source": [
    "import ROOT\n",
    "from ROOT import TFile,TH1,TH1F,TCanvas,TNtuple,TTreeReader,TTreeReaderValue\n",
    "from ROOT import RooFit\n",
    "from ROOT.RooFit import Layout\n",
    "from ROOT import RooStats\n",
    "from ROOT import RooAbsData\n",
    "RooAbsData.setDefaultStorageType ( RooAbsData.Tree )\n",
    "from array import array\n",
    "import sys"
   ]
  },
  {
   "cell_type": "code",
   "execution_count": 3,
   "metadata": {
    "collapsed": true
   },
   "outputs": [],
   "source": [
    "from ROOT import RooRealVar,RooAbsPdf,RooChebychev,RooExponential,RooGaussian,RooAbsPdf,RooPlot,RooAddPdf,RooDataHist,RooArgSet,RooArgList\n",
    "from ROOT import kGreen,kRed,kBlack,kBlue,kDashed,kDotted,kMagenta,RooVoigtian\n",
    "from ROOT.RooFit import Components,LineColor,LineStyle,Name,Normalization,Range,SelectVars\n",
    "from ROOT import RooDataSet,RooFormulaVar,RooLinkedList"
   ]
  },
  {
   "cell_type": "code",
   "execution_count": 7,
   "metadata": {},
   "outputs": [],
   "source": [
    "no_hlts = 13              "
   ]
  },
  {
   "cell_type": "code",
   "execution_count": 8,
   "metadata": {},
   "outputs": [
    {
     "name": "stdout",
     "output_type": "stream",
     "text": [
      "TFile**\t\t/Users/adrianodiflorio/Desktop/mmkk2017/phiJpsiTriggersBCDEF.root\t\n",
      " TFile*\t\t/Users/adrianodiflorio/Desktop/mmkk2017/phiJpsiTriggersBCDEF.root\t\n",
      "  KEY: TDirectoryFile\trootuple;1\trootuple\n",
      "TDirectoryFile*\t\trootuple\trootuple\n",
      " KEY: TTree\txTree;1\tTree of xs\n",
      " KEY: TTree\tjTree;1\tTree of jpsis\n",
      " KEY: TTree\tpTree;1\tTree of phis\n",
      " KEY: TTree\tbTree;1\tTree of bkg\n"
     ]
    },
    {
     "name": "stderr",
     "output_type": "stream",
     "text": [
      "Warning in <TClass::Init>: no dictionary for class reco::Track is available\n",
      "Warning in <TClass::Init>: no dictionary for class reco::TrackBase is available\n",
      "Warning in <TClass::Init>: no dictionary for class reco::HitPattern is available\n",
      "Warning in <TClass::Init>: no dictionary for class edm::Ref<vector<reco::TrackExtra>,reco::TrackExtra,edm::refhelper::FindUsingAdvance<vector<reco::TrackExtra>,reco::TrackExtra> > is available\n",
      "Warning in <TClass::Init>: no dictionary for class edm::RefCoreWithIndex is available\n",
      "Warning in <TClass::Init>: no dictionary for class reco::Vertex is available\n",
      "Warning in <TClass::Init>: no dictionary for class edm::RefToBase<reco::Track> is available\n",
      "Warning in <TClass::Init>: no dictionary for class edm::reftobase::BaseHolder<reco::Track> is available\n"
     ]
    }
   ],
   "source": [
    "#rootfile = \"/Users/adrianodiflorio/Desktop/mmkk2017/09Jan2017.root\"\n",
    "#rootfile = \"/Users/adrianodiflorio/Desktop/mmkk2017/allphi_DataF.root\"\n",
    "rootfile = \"/Users/adrianodiflorio/Desktop/mmkk2017/phiJpsiTriggersBCDEF.root\"\n",
    "inputfile = TFile(rootfile,\"READ\") \n",
    "inputfile.ls()\n",
    "xTupleDir = (inputfile.Get(\"rootuple\")) \n",
    "xTupleDir.ls()\n",
    "#pTuple = (xTupleDir.Get(\"pTree\")) \n",
    "xTuple = (xTupleDir.Get(\"xTree\")) \n",
    "#jTuple = (xTupleDir.Get(\"jTree\")) "
   ]
  },
  {
   "cell_type": "code",
   "execution_count": 16,
   "metadata": {},
   "outputs": [
    {
     "name": "stdout",
     "output_type": "stream",
     "text": [
      "237165\n"
     ]
    }
   ],
   "source": [
    "canvas = TCanvas(\"canvas\",\"canvas\",1000,1000)\n",
    "mass = RooRealVar(\"xM\",\"M(#mu#mu#mu#mu)[GeV]\",5.15,5.55)\n",
    "trigger = RooRealVar(\"trigger\",\"trigger\",0.0,10000)\n",
    "alldata = RooDataSet(\"alldata\",\"alldata\",xTuple,RooArgSet(mass,trigger),\"vProb > 0.01\")#,cutFormula)\n",
    "frame = mass.frame(Range(5.15,5.55))\n",
    "alldata.plotOn(frame,RooLinkedList())\n",
    "\n",
    "frame.Draw()"
   ]
  },
  {
   "cell_type": "code",
   "execution_count": null,
   "metadata": {
    "collapsed": true
   },
   "outputs": [],
   "source": [
    "canvas.SaveAs(\"testCanvas.png\")"
   ]
  }
 ],
 "metadata": {
  "kernelspec": {
   "display_name": "Python 2",
   "language": "python",
   "name": "python2"
  },
  "language_info": {
   "codemirror_mode": {
    "name": "ipython",
    "version": 2
   },
   "file_extension": ".py",
   "mimetype": "text/x-python",
   "name": "python",
   "nbconvert_exporter": "python",
   "pygments_lexer": "ipython2",
   "version": "2.7.14"
  }
 },
 "nbformat": 4,
 "nbformat_minor": 2
}
